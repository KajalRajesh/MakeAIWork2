{
 "cells": [
  {
   "cell_type": "markdown",
   "id": "656c2014-bd44-4f55-82be-b9b15200961c",
   "metadata": {},
   "source": [
    "<font size=\"12\">Lidar Model</font>"
   ]
  },
  {
   "cell_type": "markdown",
   "id": "28a085e0-0b99-4ae9-a938-fe9f5f347bdd",
   "metadata": {},
   "source": [
    "<font size=\"6\"> Import libraries</font>"
   ]
  },
  {
   "cell_type": "code",
   "execution_count": 19,
   "id": "6024bbbc-169d-4b34-962a-184b21942a8e",
   "metadata": {
    "tags": []
   },
   "outputs": [],
   "source": [
    "import os\n",
    "import torch\n",
    "import pandas as pd\n",
    "import mlflow\n",
    "\n",
    "from torch import nn\n",
    "from torch import optim\n",
    "from torch.utils.data import Dataset, DataLoader\n",
    "from sklearn.model_selection import train_test_split\n",
    "\n",
    "import torch.nn.functional as F\n",
    "import pickle as pkl\n",
    "import matplotlib.pyplot as plt\n"
   ]
  },
  {
   "cell_type": "markdown",
   "id": "6561f93d-c49f-46a7-aea3-814dc35ba81b",
   "metadata": {},
   "source": [
    "<font size=\"6\">Read Data & Convert to Tensors</font>"
   ]
  },
  {
   "cell_type": "markdown",
   "id": "f4bb3f81-e7d6-482b-bffe-7865d06e00b1",
   "metadata": {},
   "source": [
    "<font size=\"2\">Along with reading the data ,we have to do EDA and Transformation of data before we move futher into developing models.</font>"
   ]
  },
  {
   "cell_type": "code",
   "execution_count": 20,
   "id": "1eb8324e-0945-4a78-aad3-9768811c1742",
   "metadata": {
    "tags": []
   },
   "outputs": [],
   "source": [
    "\n",
    "# Read data, convert to tensors\n",
    "\n",
    "data_samples =\"sonar.csv\" \n",
    "data = pd.read_csv(data_samples, header=None)\n",
    "# data.head()\n",
    "# data.info()\n",
    "# data.shape\n",
    "# data.ndim\n",
    "# data.describe()\n",
    "# data.isnull().sum()\n",
    "# data.nunique()\n",
    "# data.memory_usage( )"
   ]
  },
  {
   "cell_type": "markdown",
   "id": "d81cec3a-65c7-475e-acb2-8628fb5c34e4",
   "metadata": {},
   "source": []
  },
  {
   "cell_type": "code",
   "execution_count": 21,
   "id": "7887a335-4629-4656-8311-6b6528d59793",
   "metadata": {},
   "outputs": [
    {
     "name": "stdout",
     "output_type": "stream",
     "text": [
      "torch.Size([3200, 3])\n",
      "torch.Size([3200, 1])\n"
     ]
    }
   ],
   "source": [
    "X = data.iloc[:, 0:3].values\n",
    "y = data.iloc[:, 3].values\n",
    "\n",
    "# convert into PyTorch tensors\n",
    "trainingSetX = torch.tensor(X, dtype=torch.float32)\n",
    "trainingSetY = torch.tensor(y, dtype=torch.float32).reshape(-1, 1)\n",
    "\n",
    "\n",
    "\n",
    "print(trainingSetX.shape)\n",
    "print(trainingSetY.shape)\n",
    "\n",
    "\n",
    "\n",
    "loader = DataLoader(list(zip(trainingSetX,trainingSetY)), shuffle=True)\n"
   ]
  },
  {
   "cell_type": "markdown",
   "id": "e4865681-37d7-4925-9a39-9e4b367be6b1",
   "metadata": {},
   "source": [
    "<font size=\"2\">If cuda is used, it will run your model faster than using your device memory</font>"
   ]
  },
  {
   "cell_type": "code",
   "execution_count": 22,
   "id": "b5e704c6-52d9-4f23-9632-f74bb5e260fa",
   "metadata": {
    "tags": []
   },
   "outputs": [
    {
     "name": "stdout",
     "output_type": "stream",
     "text": [
      "Using cpu device\n"
     ]
    }
   ],
   "source": [
    "\n",
    "# use Cuda Y/N \n",
    "\n",
    "\n",
    "device = (\n",
    "    \"cuda\" if torch.cuda.is_available() else \"mps\" if torch.backends.mps.is_available() else \"cpu\"\n",
    ")\n",
    "\n",
    "\n",
    "print(f\"Using {device} device\")\n",
    "\n"
   ]
  },
  {
   "cell_type": "markdown",
   "id": "05fe81ca-0a96-41fb-9e00-8c7921feab66",
   "metadata": {},
   "source": [
    "<font size=\"6\">Neural Network construction</font>"
   ]
  },
  {
   "cell_type": "markdown",
   "id": "73177489-070b-4118-a7e0-1f72bf3794ad",
   "metadata": {},
   "source": [
    "<font size=\"2\">We can use any number of hidden layers but its better to choose the layers by first experimenting with different number of layers. Also in our model we have used SiLU as our softening function before the output layer because we have negative value as well in our output and SiLU is good in squeezing the negative values. </font>"
   ]
  },
  {
   "cell_type": "code",
   "execution_count": 23,
   "id": "ea2b0a79-fc5e-46de-bcd9-88eb8a3905ca",
   "metadata": {
    "tags": []
   },
   "outputs": [],
   "source": [
    "\n",
    "#Neural Network construction\n",
    "\n",
    "\n",
    "class NeuralNetwork(nn.Module):\n",
    "    \n",
    "    def __init__(self, inputs, outputs):\n",
    "        \n",
    "        super().__init__()\n",
    "        \n",
    "        # Simple linear connections\n",
    "        self.linear_relu_stack = nn.Sequential(\n",
    "            nn.Linear(inputs, 36),\n",
    "            nn.ReLU(),\n",
    "            nn.Linear(36, 24),\n",
    "            nn.ReLU(),\n",
    "            nn.Linear(24, 12),\n",
    "            nn.SiLU(),\n",
    "            nn.Linear(12, outputs),\n",
    "            # nn.ReLU()\n",
    "        )\n",
    "            \n",
    "    def forward(self, x):\n",
    "        \n",
    "        return self.linear_relu_stack(x)\n",
    "\n"
   ]
  },
  {
   "cell_type": "markdown",
   "id": "730c5e98-f70f-48c5-9780-dafb080f5c51",
   "metadata": {},
   "source": [
    "<font size=\"6\">Model Training</font>"
   ]
  },
  {
   "cell_type": "markdown",
   "id": "733241da-72a2-473f-9148-c5eb9ff4c466",
   "metadata": {},
   "source": [
    "<font size=\"2\">In our sonar model we have 2 input feartures(sensors) and  single output. We have to keep experimenting with different learning rates and epochs until we get the lowest loss value. The lower the loss function the better the model is. Here we have used mini batch to feed for every epoch.</font> "
   ]
  },
  {
   "cell_type": "code",
   "execution_count": 24,
   "id": "938df5ad-d5b6-4528-a105-72deac767561",
   "metadata": {
    "tags": []
   },
   "outputs": [
    {
     "name": "stdout",
     "output_type": "stream",
     "text": [
      "NeuralNetwork(\n",
      "  (linear_relu_stack): Sequential(\n",
      "    (0): Linear(in_features=3, out_features=36, bias=True)\n",
      "    (1): ReLU()\n",
      "    (2): Linear(in_features=36, out_features=24, bias=True)\n",
      "    (3): ReLU()\n",
      "    (4): Linear(in_features=24, out_features=12, bias=True)\n",
      "    (5): SiLU()\n",
      "    (6): Linear(in_features=12, out_features=1, bias=True)\n",
      "  )\n",
      ")\n"
     ]
    }
   ],
   "source": [
    "\n",
    "\n",
    "# Model Training: \n",
    "model = NeuralNetwork(3, 1)\n",
    "print(model)\n",
    "\n",
    "\n",
    "# Take binary cross entropy as loss function (one output interpreted as binary)\n",
    "# lossFunction = nn.BCELoss()\n",
    "lossFunction = nn.MSELoss()\n",
    "\n",
    "learningRate = 0.00008\n",
    "\n",
    "# Use stochastic gradient descent as optimizer, use weights and biases of model\n",
    "gradientDescent = torch.optim.Adam(model.parameters(), lr=learningRate)\n",
    "\n",
    "epochs = 200\n",
    "\n",
    "\n",
    "\n",
    "losses = []\n",
    "\n",
    "\n",
    "\n",
    "\n",
    "\n",
    "for epoch in range(epochs):\n",
    "    \n",
    "    \n",
    "    added = False\n",
    "    epochLoss = 0.0\n",
    "    \n",
    "    for x, y in loader:\n",
    "    \n",
    "        # Reset the gradient delta's (dw, db)\n",
    "        gradientDescent.zero_grad()\n",
    "\n",
    "        # Forward step\n",
    "        yhat = model(x)\n",
    "\n",
    "        # Compute loss\n",
    "        loss = lossFunction(yhat, y)\n",
    "        \n",
    "        if not added:\n",
    "            \n",
    "            added = True\n",
    "        \n",
    "            # Keep track of loss\n",
    "            epochLoss += loss.item()\n",
    "\n",
    "        # Apply gradient descent (via backpropagation)\n",
    "        loss.backward()\n",
    "\n",
    "        # Use w += -step * dw * learnRate\n",
    "        gradientDescent.step()\n",
    "        \n",
    "    losses.append(epochLoss / len(loader))\n",
    "        \n",
    "        \n",
    "\n"
   ]
  },
  {
   "cell_type": "markdown",
   "id": "0d7d15b9-2f2b-4713-a9f9-0c132d03b0bf",
   "metadata": {},
   "source": [
    "<font size=\"6\">Machine Learning flow(ML flow)</font>"
   ]
  },
  {
   "cell_type": "markdown",
   "id": "49b38aa4-734d-49d6-9c8a-f953cdccb807",
   "metadata": {},
   "source": [
    "<font size=\"2\">Ml Flow helps in racking component allows you to record machine model training sessions (called runs) & run queries</font>"
   ]
  },
  {
   "cell_type": "code",
   "execution_count": 25,
   "id": "f60db2c7-40d3-4af7-83cf-aab475c4a8bd",
   "metadata": {},
   "outputs": [],
   "source": [
    "#Machine Learning Flow\n",
    "\n",
    "sensor = \"sonar\"\n",
    "hidden_layers = \"36_24_12\"\n",
    "activation = \"ReLU_ReLU_SiLU\"\n",
    "\n",
    "mlflow.set_experiment('NeuralNetwork')\n",
    "\n",
    "# with mlflow.start_run(run_name=f'Neural net ({sensor}) | layers: {len(hidden_layers)}, epochs: {epochs}, lr: {lr}, batchsize: {batch_size}'):\n",
    "with mlflow.start_run(run_name=f'NN({sensor}) {hidden_layers}, epochs: {epochs}, lr: {learningRate}'):\n",
    "\n",
    "\n",
    "    mlflow.log_param('sensor', sensor)\n",
    "    mlflow.log_param('data_samples', data_samples)\n",
    "    \n",
    "    mlflow.log_param('hidden_layers', hidden_layers)\n",
    "    mlflow.log_param('activation', activation)\n",
    "\n",
    "    mlflow.log_param('epochs', epochs)\n",
    "    mlflow.log_param('lr', learningRate)\n",
    "   # mlflow.log_param('batch_size', batch_size)\n",
    "\n",
    "    mlflow.log_param('optimizer', gradientDescent)\n",
    "    mlflow.log_param('loss_fn', lossFunction)\n",
    "    mlflow.log_metric('epochLoss', losses[-1])\n"
   ]
  },
  {
   "cell_type": "markdown",
   "id": "c7ff8073-953a-44ce-a6d8-5ff8c5b68f0f",
   "metadata": {},
   "source": [
    "<font size=\"6\">Saving the Model</font>"
   ]
  },
  {
   "cell_type": "markdown",
   "id": "2dbbb262-c8f5-4b1f-8a6f-b77e9190122e",
   "metadata": {},
   "source": [
    "<font size=\"2\">We are saving the model using pytorch but actually pytorch itself uses the module pickle to save the model.</font>"
   ]
  },
  {
   "cell_type": "code",
   "execution_count": 26,
   "id": "8b90a8a3-bf9b-4cac-835c-ce43e2f48b20",
   "metadata": {},
   "outputs": [],
   "source": [
    "# # Saving Model\n",
    "# filehandler = open('SDCar.pkl', 'wb')\n",
    "# pkl.dump(model.linear_relu_stack, filehandler)\n",
    "\n",
    "filehandler = open('SDCar_sonar.pth', 'wb')\n",
    "torch.save(model.linear_relu_stack, filehandler)"
   ]
  },
  {
   "cell_type": "markdown",
   "id": "4d3fecb6-c184-4c45-a936-f033244e3a00",
   "metadata": {},
   "source": [
    "<font size=\"6\">Plotting the Loss function against the epochs</font>"
   ]
  },
  {
   "cell_type": "code",
   "execution_count": 27,
   "id": "50aa443a-aa5c-478c-b8ea-9c25d6ef8c6e",
   "metadata": {
    "tags": []
   },
   "outputs": [
    {
     "data": {
      "image/png": "[encoded data removed]",
      "text/plain": [
       "<Figure size 640x480 with 1 Axes>"
      ]
     },
     "metadata": {},
     "output_type": "display_data"
    }
   ],
   "source": [
    "# Compare\n",
    "\n",
    "fig, ax = plt.subplots()\n",
    "ax.set(xlabel='Epoch', ylabel='Cost', title=\"Training Cost\")\n",
    "\n",
    "plt.plot([x for x in range(epochs)], losses, 'red')\n",
    "plt.show()\n",
    "\n"
   ]
  }
 ],
 "metadata": {
  "kernelspec": {
   "display_name": "Python 3 (ipykernel)",
   "language": "python",
   "name": "python3"
  },
  "language_info": {
   "codemirror_mode": {
    "name": "ipython",
    "version": 3
   },
   "file_extension": ".py",
   "mimetype": "text/x-python",
   "name": "python",
   "nbconvert_exporter": "python",
   "pygments_lexer": "ipython3",
   "version": "3.10.11"
  }
 },
 "nbformat": 4,
 "nbformat_minor": 5
}
