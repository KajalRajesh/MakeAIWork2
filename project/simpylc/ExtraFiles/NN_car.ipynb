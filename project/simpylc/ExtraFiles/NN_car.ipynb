{
 "cells": [
  {
   "cell_type": "markdown",
   "id": "91e66c6f-792a-4056-a485-020c766c247a",
   "metadata": {
    "tags": []
   },
   "source": [
    "<H1>SIMPYLC <B>CAR</B></H1>"
   ]
  },
  {
   "cell_type": "markdown",
   "id": "e71e9109-1ac4-4282-b357-db468deeb644",
   "metadata": {},
   "source": [
    "Use PANDAS to import default.samples into NN."
   ]
  },
  {
   "cell_type": "code",
   "execution_count": 1,
   "id": "ff7b1cc4-0d8a-46c6-b9f1-238fd4dbec8f",
   "metadata": {
    "tags": []
   },
   "outputs": [],
   "source": [
    "import numpy as np\n",
    "import pandas as pd\n",
    "import matplotlib.pyplot as plt\n",
    "import seaborn as sns\n",
    "%matplotlib inline"
   ]
  },
  {
   "cell_type": "code",
   "execution_count": 3,
   "id": "68aac0ee-2ad5-4a14-933d-a320d7b78a1b",
   "metadata": {
    "tags": []
   },
   "outputs": [],
   "source": [
    "df = pd.read_csv('default.samples', delim_whitespace=True, header=None, index_col=False)"
   ]
  },
  {
   "cell_type": "code",
   "execution_count": 232,
   "id": "53b77d87-ee50-4f72-b7fc-566ee8d76bb1",
   "metadata": {
    "tags": []
   },
   "outputs": [
    {
     "data": {
      "text/html": [
       "<div>\n",
       "<style scoped>\n",
       "    .dataframe tbody tr th:only-of-type {\n",
       "        vertical-align: middle;\n",
       "    }\n",
       "\n",
       "    .dataframe tbody tr th {\n",
       "        vertical-align: top;\n",
       "    }\n",
       "\n",
       "    .dataframe thead th {\n",
       "        text-align: right;\n",
       "    }\n",
       "</style>\n",
       "<table border=\"1\" class=\"dataframe\">\n",
       "  <thead>\n",
       "    <tr style=\"text-align: right;\">\n",
       "      <th></th>\n",
       "      <th>Rows</th>\n",
       "      <th>Columns</th>\n",
       "    </tr>\n",
       "  </thead>\n",
       "  <tbody>\n",
       "    <tr>\n",
       "      <th>Sonar Dataset</th>\n",
       "      <td>3357</td>\n",
       "      <td>4</td>\n",
       "    </tr>\n",
       "  </tbody>\n",
       "</table>\n",
       "</div>"
      ],
      "text/plain": [
       "               Rows  Columns\n",
       "Sonar Dataset  3357        4"
      ]
     },
     "execution_count": 232,
     "metadata": {},
     "output_type": "execute_result"
    }
   ],
   "source": [
    "pd.DataFrame([df.shape],index=['Sonar Dataset'],columns=['Rows','Columns'])"
   ]
  },
  {
   "cell_type": "code",
   "execution_count": 233,
   "id": "29636e63-3926-4163-a3de-baf463a0463d",
   "metadata": {
    "tags": []
   },
   "outputs": [
    {
     "data": {
      "text/html": [
       "<div>\n",
       "<style scoped>\n",
       "    .dataframe tbody tr th:only-of-type {\n",
       "        vertical-align: middle;\n",
       "    }\n",
       "\n",
       "    .dataframe tbody tr th {\n",
       "        vertical-align: top;\n",
       "    }\n",
       "\n",
       "    .dataframe thead th {\n",
       "        text-align: right;\n",
       "    }\n",
       "</style>\n",
       "<table border=\"1\" class=\"dataframe\">\n",
       "  <thead>\n",
       "    <tr style=\"text-align: right;\">\n",
       "      <th></th>\n",
       "      <th>0</th>\n",
       "      <th>1</th>\n",
       "      <th>2</th>\n",
       "      <th>3</th>\n",
       "    </tr>\n",
       "  </thead>\n",
       "  <tbody>\n",
       "    <tr>\n",
       "      <th>0</th>\n",
       "      <td>1.4674</td>\n",
       "      <td>1.2848</td>\n",
       "      <td>1.7752</td>\n",
       "      <td>-22.0</td>\n",
       "    </tr>\n",
       "    <tr>\n",
       "      <th>1</th>\n",
       "      <td>1.4674</td>\n",
       "      <td>1.2848</td>\n",
       "      <td>1.7752</td>\n",
       "      <td>-22.0</td>\n",
       "    </tr>\n",
       "    <tr>\n",
       "      <th>2</th>\n",
       "      <td>1.4674</td>\n",
       "      <td>1.2848</td>\n",
       "      <td>1.7752</td>\n",
       "      <td>-22.0</td>\n",
       "    </tr>\n",
       "    <tr>\n",
       "      <th>3</th>\n",
       "      <td>1.4674</td>\n",
       "      <td>1.2848</td>\n",
       "      <td>1.7752</td>\n",
       "      <td>-22.0</td>\n",
       "    </tr>\n",
       "    <tr>\n",
       "      <th>4</th>\n",
       "      <td>1.4674</td>\n",
       "      <td>1.2848</td>\n",
       "      <td>1.7752</td>\n",
       "      <td>-22.0</td>\n",
       "    </tr>\n",
       "  </tbody>\n",
       "</table>\n",
       "</div>"
      ],
      "text/plain": [
       "        0       1       2     3\n",
       "0  1.4674  1.2848  1.7752 -22.0\n",
       "1  1.4674  1.2848  1.7752 -22.0\n",
       "2  1.4674  1.2848  1.7752 -22.0\n",
       "3  1.4674  1.2848  1.7752 -22.0\n",
       "4  1.4674  1.2848  1.7752 -22.0"
      ]
     },
     "execution_count": 233,
     "metadata": {},
     "output_type": "execute_result"
    }
   ],
   "source": [
    "df.head()"
   ]
  },
  {
   "cell_type": "code",
   "execution_count": 234,
   "id": "bbdd1d98-011e-4972-872f-352e37126366",
   "metadata": {
    "tags": []
   },
   "outputs": [
    {
     "name": "stdout",
     "output_type": "stream",
     "text": [
      "<class 'pandas.core.frame.DataFrame'>\n",
      "RangeIndex: 3357 entries, 0 to 3356\n",
      "Data columns (total 4 columns):\n",
      " #   Column  Non-Null Count  Dtype  \n",
      "---  ------  --------------  -----  \n",
      " 0   0       3357 non-null   float64\n",
      " 1   1       3357 non-null   float64\n",
      " 2   2       3357 non-null   float64\n",
      " 3   3       3357 non-null   float64\n",
      "dtypes: float64(4)\n",
      "memory usage: 105.0 KB\n"
     ]
    }
   ],
   "source": [
    "df.info()"
   ]
  },
  {
   "cell_type": "markdown",
   "id": "a2350ee8-afa6-44a1-95ba-999639490792",
   "metadata": {},
   "source": [
    "check missing values in data."
   ]
  },
  {
   "cell_type": "code",
   "execution_count": 235,
   "id": "a6aeb733-6bd6-48e4-8fb0-407acf557952",
   "metadata": {
    "tags": []
   },
   "outputs": [
    {
     "data": {
      "text/plain": [
       "0"
      ]
     },
     "execution_count": 235,
     "metadata": {},
     "output_type": "execute_result"
    }
   ],
   "source": [
    "df.isna().sum().sum()"
   ]
  },
  {
   "cell_type": "markdown",
   "id": "28f47ebc-c68b-4c2e-8f99-f9d41d560f08",
   "metadata": {},
   "source": [
    "<H3>PYTORCH - CREATING TENSOR</H3>"
   ]
  },
  {
   "cell_type": "code",
   "execution_count": 236,
   "id": "4335b073-fe88-4b2f-998d-deabea9ff028",
   "metadata": {
    "tags": []
   },
   "outputs": [],
   "source": [
    "import torch\n",
    "from torch import nn\n",
    "from torch import optim\n",
    "from torch.utils.data import Dataset, DataLoader"
   ]
  },
  {
   "cell_type": "code",
   "execution_count": 237,
   "id": "61caa207-47d8-44c6-9f82-2fc1ba11d45c",
   "metadata": {
    "tags": []
   },
   "outputs": [],
   "source": [
    "# Change Float into Double\n",
    "torch.set_default_tensor_type(torch.DoubleTensor)\n",
    "\n",
    "train_tensor = torch.tensor(df.values)"
   ]
  },
  {
   "cell_type": "code",
   "execution_count": 238,
   "id": "f0a4f486-edc3-4112-82dc-b0c27d5c2ae3",
   "metadata": {
    "tags": []
   },
   "outputs": [
    {
     "name": "stdout",
     "output_type": "stream",
     "text": [
      "tensor([[  1.4674,   1.2848,   1.7752, -22.0000],\n",
      "        [  1.4674,   1.2848,   1.7752, -22.0000],\n",
      "        [  1.4674,   1.2848,   1.7752, -22.0000],\n",
      "        ...,\n",
      "        [  1.3790,   0.8655,   1.8558, -22.0000],\n",
      "        [  1.3790,   0.8655,   1.8558, -22.0000],\n",
      "        [  1.3790,   0.8655,   1.8558, -22.0000]])\n"
     ]
    }
   ],
   "source": [
    "print(train_tensor)"
   ]
  },
  {
   "cell_type": "markdown",
   "id": "3e4cec53-549c-4a3c-bb9e-871760784ca7",
   "metadata": {},
   "source": [
    "<H1>NN</H1>"
   ]
  },
  {
   "cell_type": "code",
   "execution_count": 250,
   "id": "12c652a5-116a-46c9-b995-31601799f284",
   "metadata": {
    "tags": []
   },
   "outputs": [],
   "source": [
    "# load the dataset, split into input (X) and output (y) variables\n",
    "# dataset = pd.read_csv('sonar.samples', delim_whitespace=True, header=None, index_col=False)\n",
    "dataset = train_tensor\n",
    "X = dataset[:,0:3]\n",
    "Y = dataset[:,3].reshape(-1, 1)\n",
    "# Y = dataset[:,3]\n",
    "arr_result = np.multiply(X, Y)"
   ]
  },
  {
   "cell_type": "markdown",
   "id": "c7baa2d5-2cdc-48e6-9fb9-b50ef798e050",
   "metadata": {},
   "source": [
    "<H3>Define the Model</H3>"
   ]
  },
  {
   "cell_type": "code",
   "execution_count": 240,
   "id": "f799d13a-89ea-4094-b14e-5d01bdade7bc",
   "metadata": {
    "tags": []
   },
   "outputs": [],
   "source": [
    "model = nn.Sequential(\n",
    "    nn.Linear(3, 3),\n",
    "    nn.ReLU(),\n",
    "    nn.Linear(3, 3),\n",
    "    nn.ReLU(),\n",
    "    nn.Linear(3, 3),\n",
    "    nn.ReLU(),\n",
    "    nn.Linear(3, 1),\n",
    "    nn.Sigmoid()\n",
    ")"
   ]
  },
  {
   "cell_type": "code",
   "execution_count": 241,
   "id": "e684d329-b264-48ff-95b6-d5bd7073152d",
   "metadata": {
    "tags": []
   },
   "outputs": [
    {
     "name": "stdout",
     "output_type": "stream",
     "text": [
      "Sequential(\n",
      "  (0): Linear(in_features=3, out_features=3, bias=True)\n",
      "  (1): ReLU()\n",
      "  (2): Linear(in_features=3, out_features=3, bias=True)\n",
      "  (3): ReLU()\n",
      "  (4): Linear(in_features=3, out_features=3, bias=True)\n",
      "  (5): ReLU()\n",
      "  (6): Linear(in_features=3, out_features=1, bias=True)\n",
      "  (7): Sigmoid()\n",
      ")\n"
     ]
    }
   ],
   "source": [
    "print(model)"
   ]
  },
  {
   "cell_type": "markdown",
   "id": "565be3f7-2129-4efe-bdf7-59f199e1186c",
   "metadata": {},
   "source": [
    "PIMA CLASSIFIER as CLASS<br>https://machinelearningmastery.com/develop-your-first-neural-network-with-pytorch-step-by-step/"
   ]
  },
  {
   "cell_type": "code",
   "execution_count": 242,
   "id": "59506b12-87ea-4be6-90d0-15333f4286f4",
   "metadata": {
    "tags": []
   },
   "outputs": [
    {
     "name": "stdout",
     "output_type": "stream",
     "text": [
      "PimaClassifier(\n",
      "  (hidden1): Linear(in_features=3, out_features=3, bias=True)\n",
      "  (act1): ReLU()\n",
      "  (hidden2): Linear(in_features=3, out_features=3, bias=True)\n",
      "  (act2): ReLU()\n",
      "  (hidden3): Linear(in_features=3, out_features=3, bias=True)\n",
      "  (act3): ReLU()\n",
      "  (output): Linear(in_features=3, out_features=1, bias=True)\n",
      "  (act_output): Sigmoid()\n",
      ")\n"
     ]
    }
   ],
   "source": [
    "class PimaClassifier(nn.Module):\n",
    "    def __init__(self):\n",
    "        super().__init__()\n",
    "        self.hidden1 = nn.Linear(3, 3)\n",
    "        self.act1 = nn.ReLU()\n",
    "        self.hidden2 = nn.Linear(3, 3)\n",
    "        self.act2 = nn.ReLU()\n",
    "        self.hidden3 = nn.Linear(3, 3)\n",
    "        self.act3 = nn.ReLU()\n",
    "        self.output = nn.Linear(3, 1)\n",
    "        self.act_output = nn.Sigmoid()\n",
    " \n",
    "    def forward(self, x):\n",
    "        x = self.act1(self.hidden1(x))\n",
    "        x = self.act2(self.hidden2(x))\n",
    "        x = self.act3(self.hidden3(x))\n",
    "        x = self.act_output(self.output(x))\n",
    "        return x\n",
    "\n",
    "model = PimaClassifier()\n",
    "print(model)"
   ]
  },
  {
   "cell_type": "markdown",
   "id": "058e8b49-59be-4678-9832-bad3cfc85466",
   "metadata": {},
   "source": [
    "<H3>Preparation for Training</H3>"
   ]
  },
  {
   "cell_type": "code",
   "execution_count": 243,
   "id": "1ef0b8b1-f290-42e9-97ff-408c34d8bb81",
   "metadata": {
    "tags": []
   },
   "outputs": [
    {
     "name": "stdout",
     "output_type": "stream",
     "text": [
      "tensor(98.9533)\n",
      "3357\n"
     ]
    },
    {
     "name": "stderr",
     "output_type": "stream",
     "text": [
      "C:\\Users\\PARCEL\\AppData\\Local\\Programs\\Python\\Python311\\Lib\\site-packages\\torch\\nn\\modules\\loss.py:536: UserWarning: Using a target size (torch.Size([3357, 1])) that is different to the input size (torch.Size([3357, 3])). This will likely lead to incorrect results due to broadcasting. Please ensure they have the same size.\n",
      "  return F.mse_loss(input, target, reduction=self.reduction)\n"
     ]
    }
   ],
   "source": [
    "mse = nn.MSELoss()\n",
    "output = mse(X, Y)\n",
    "print(output)\n",
    "optimizer = optim.Adam(model.parameters(), lr=0.01)\n",
    "print(len(X))"
   ]
  },
  {
   "cell_type": "markdown",
   "id": "137d376c-9d49-47bf-b445-2a7bd92f4c23",
   "metadata": {},
   "source": [
    "<H3>Training a Model</H3>"
   ]
  },
  {
   "cell_type": "code",
   "execution_count": 247,
   "id": "d40d4999-e7f8-450b-9cd2-ec12a317a23d",
   "metadata": {
    "tags": []
   },
   "outputs": [
    {
     "name": "stdout",
     "output_type": "stream",
     "text": [
      "Finished epoch 0, latest loss 528.999999999857\n",
      "Finished epoch 1, latest loss 528.9999999999467\n",
      "Finished epoch 2, latest loss 528.9999999999711\n",
      "Finished epoch 3, latest loss 528.9999999999807\n",
      "Finished epoch 4, latest loss 528.9999999999857\n",
      "Finished epoch 5, latest loss 528.9999999999885\n",
      "Finished epoch 6, latest loss 528.9999999999906\n",
      "Finished epoch 7, latest loss 528.9999999999918\n",
      "Finished epoch 8, latest loss 528.999999999993\n",
      "Finished epoch 9, latest loss 528.9999999999937\n",
      "Finished epoch 10, latest loss 528.9999999999944\n",
      "Finished epoch 11, latest loss 528.9999999999949\n",
      "Finished epoch 12, latest loss 528.9999999999952\n",
      "Finished epoch 13, latest loss 528.9999999999958\n",
      "Finished epoch 14, latest loss 528.9999999999961\n",
      "Finished epoch 15, latest loss 528.9999999999962\n",
      "Finished epoch 16, latest loss 528.9999999999966\n",
      "Finished epoch 17, latest loss 528.9999999999967\n",
      "Finished epoch 18, latest loss 528.9999999999969\n",
      "Finished epoch 19, latest loss 528.999999999997\n",
      "Finished epoch 20, latest loss 528.9999999999973\n",
      "Finished epoch 21, latest loss 528.9999999999974\n",
      "Finished epoch 22, latest loss 528.9999999999975\n",
      "Finished epoch 23, latest loss 528.9999999999975\n",
      "Finished epoch 24, latest loss 528.9999999999977\n",
      "Finished epoch 25, latest loss 528.9999999999978\n",
      "Finished epoch 26, latest loss 528.9999999999978\n",
      "Finished epoch 27, latest loss 528.9999999999981\n",
      "Finished epoch 28, latest loss 528.9999999999981\n",
      "Finished epoch 29, latest loss 528.9999999999981\n"
     ]
    }
   ],
   "source": [
    "n_epochs = 30\n",
    "batch_size = 0.1\n",
    "\n",
    "for epoch in range(n_epochs):\n",
    "    for x, y in zip(X, Y):\n",
    "        y_pred = model(x)\n",
    "        loss = mse(y_pred, y)\n",
    "        optimizer.zero_grad()\n",
    "        loss.backward()\n",
    "        optimizer.step()\n",
    "    print(f'Finished epoch {epoch}, latest loss {loss}')"
   ]
  },
  {
   "cell_type": "code",
   "execution_count": 248,
   "id": "edb42f08-93df-41cc-bab3-d3e09f473474",
   "metadata": {
    "tags": []
   },
   "outputs": [
    {
     "name": "stdout",
     "output_type": "stream",
     "text": [
      "Accuracy 0.0\n"
     ]
    }
   ],
   "source": [
    "# compute accuracy (no_grad is optional)\n",
    "with torch.no_grad():\n",
    "    y_pred = model(X)\n",
    "accuracy = (y_pred.round() == Y).float().mean()\n",
    "print(f\"Accuracy {accuracy}\")"
   ]
  }
 ],
 "metadata": {
  "kernelspec": {
   "display_name": "Python 3 (ipykernel)",
   "language": "python",
   "name": "python3"
  },
  "language_info": {
   "codemirror_mode": {
    "name": "ipython",
    "version": 3
   },
   "file_extension": ".py",
   "mimetype": "text/x-python",
   "name": "python",
   "nbconvert_exporter": "python",
   "pygments_lexer": "ipython3",
   "version": "3.10.11"
  }
 },
 "nbformat": 4,
 "nbformat_minor": 5
}
