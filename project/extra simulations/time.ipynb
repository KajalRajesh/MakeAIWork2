{
 "cells": [
  {
   "cell_type": "code",
   "execution_count": 4,
   "id": "44d1ee39-5de8-468d-8f67-9ea08b22c20b",
   "metadata": {
    "tags": []
   },
   "outputs": [
    {
     "name": "stdin",
     "output_type": "stream",
     "text": [
      "please input distance:  100\n",
      "please input time_step:  1\n"
     ]
    },
    {
     "name": "stdout",
     "output_type": "stream",
     "text": [
      "End time is:12.0\n"
     ]
    }
   ],
   "source": [
    "mass = 600 #kg\n",
    "force = 800 #N/m\n",
    "time = 0 #sec\n",
    "distance = 0 #meter\n",
    "velocity = 0 #m/s\n",
    "acceleration = force / mass  #N/kg\n",
    "\n",
    "distance_end = float(input(\"please input distance: \"))\n",
    "time_step = float(input(\"please input time_step: \"))\n",
    "\n",
    "while distance < distance_end:\n",
    "    time += time_step\n",
    "    velocity += acceleration * time_step\n",
    "    distance += velocity * time_step\n",
    "                  \n",
    "print(f\"End time is:{time} seconds\")                "
   ]
  },
  {
   "cell_type": "code",
   "execution_count": null,
   "id": "bedf1040-064b-4762-8983-63e00ec16199",
   "metadata": {},
   "outputs": [],
   "source": []
  }
 ],
 "metadata": {
  "kernelspec": {
   "display_name": "Python 3 (ipykernel)",
   "language": "python",
   "name": "python3"
  },
  "language_info": {
   "codemirror_mode": {
    "name": "ipython",
    "version": 3
   },
   "file_extension": ".py",
   "mimetype": "text/x-python",
   "name": "python",
   "nbconvert_exporter": "python",
   "pygments_lexer": "ipython3",
   "version": "3.10.11"
  }
 },
 "nbformat": 4,
 "nbformat_minor": 5
}
