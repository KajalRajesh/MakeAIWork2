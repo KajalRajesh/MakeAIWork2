{
 "cells": [
  {
   "cell_type": "markdown",
   "id": "701cadee",
   "metadata": {},
   "source": [
    "# Practicum opdracht implementeren neural net\n",
    "\n",
    "- inputMatrix * weightMatrix + bias\n",
    "- outputMatrix (2 x 1) geeft kruisje of rondje\n",
    "- softmax toevoegen: uitslag tussen 0 en 1 voor beide velden in de outputMatrix\n",
    "- trainen met 4 x goede inputMatrix met bijbehorende 4 x gelabelde outPutMatrix\n",
    "- trainen in epochs mbv learningRate\n",
    "- resultaten opslaan en beste resultaat kiezen adhv GradientDescent (RMSE)\n",
    "- testen met getraind netwerk en zowel goede als gemankeerde inputMatrix\n",
    "- eventueel terug naar trainen als yhat nog niet optimaal\n"
   ]
  },
  {
   "cell_type": "markdown",
   "id": "267c511a",
   "metadata": {},
   "source": [
    "## Stap 1: definieren van de dataset\n",
    "\n",
    "We werken met een 3x3 rooster waarbinnen elk vakje zwart (1) of wit (0) kan zijn. We kunnen dus beginnen met het diefiniëren van de dataset. Als datatype gebruiken we lists om de roosters en waardes binnen de roosters te implementeren. Bij een 3x3 rooster zou een enkele lijst volstaan, maar voor de volledigheid wordt er gewerkt met een list-of-lists, waarbij elke sub-lijst een horizontale regel in het rooster is. "
   ]
  },
  {
   "cell_type": "code",
   "execution_count": 3,
   "id": "d55e3d7f",
   "metadata": {},
   "outputs": [],
   "source": [
    "import random"
   ]
  },
  {
   "cell_type": "code",
   "execution_count": 4,
   "id": "4693160e",
   "metadata": {},
   "outputs": [],
   "source": [
    "# Classes\n",
    "\n",
    "# 3 x 3 matrix met vier mogelijke goede inputs\n",
    "\n",
    "# Een hele cirkel\n",
    "cirkel_1 = [[1,1,1],\n",
    "          [1,0,1],\n",
    "          [1,1,1]]\n",
    "\n",
    "# Een diamantvormige cirkel\n",
    "cirkel_2 = [[0,1,0],\n",
    "          [1,0,1],\n",
    "          [0,1,0]]\n",
    "\n",
    "# Een recht kruis\n",
    "kruis_1 = [[0,1,0],\n",
    "           [1,1,1],\n",
    "           [0,1,0]]\n",
    "\n",
    "# Een X-kruis\n",
    "kruis_2 = [[1,0,1],\n",
    "           [0,1,0],\n",
    "           [1,0,1]]"
   ]
  },
  {
   "cell_type": "code",
   "execution_count": 5,
   "id": "1ba7b9eb-21c1-473f-8bfe-ca10329eae28",
   "metadata": {},
   "outputs": [],
   "source": [
    "inputMatrix = kruis_2"
   ]
  },
  {
   "cell_type": "markdown",
   "id": "d0a3f633",
   "metadata": {},
   "source": [
    "<p>\n",
    "    labels staan in een predictionMatrix<br>\n",
    "    waarbij het eerste getal de score op cirkel<br> \n",
    "    en de tweede de score op kruis<br>\n",
    "    2 x 1 matrix<br>\n",
    "    [[scoreCirkel], [scoreKruis]]\n",
    "</p>    "
   ]
  },
  {
   "cell_type": "code",
   "execution_count": 6,
   "id": "841c9de1",
   "metadata": {},
   "outputs": [
    {
     "data": {
      "text/plain": [
       "tuple"
      ]
     },
     "execution_count": 6,
     "metadata": {},
     "output_type": "execute_result"
    }
   ],
   "source": [
    "a = random.uniform(0, 1)\n",
    "b = random.uniform(0, 1)\n",
    "type((a, b))"
   ]
  },
  {
   "cell_type": "code",
   "execution_count": 7,
   "id": "a98b89dd",
   "metadata": {},
   "outputs": [],
   "source": [
    "\n",
    "# randomValue = round(random.uniform(0, 1), 2)\n",
    "# weightMatrix = [[round(random.uniform(0, 1), 2)] for i in range(size)]\n",
    "# print(weightMatrix)"
   ]
  },
  {
   "cell_type": "code",
   "execution_count": 26,
   "id": "cda9d7c2",
   "metadata": {},
   "outputs": [],
   "source": [
    "# Initializeer bias en weightVector met random numbers tussen 0 en 1\n",
    "\n",
    "def initializeBias():\n",
    "    # Generate random bias     \n",
    "    return random.uniform(0, 1)\n",
    "\n",
    "# Input: 3x3\n",
    "# Output: # 9 x 1\n",
    "def flatten(matrix):    \n",
    "    flatMatrix = [item for sub_list in matrix for item in sub_list]    \n",
    "    return flatMatrix\n",
    "\n",
    "def initializeWeightMatrix(size):\n",
    "    # Matrixvermenigvuldiging van de getransponeerde platgemaakte inputMatrix\n",
    "    # en de weightMatrix       \n",
    "    # size x 1 vector\n",
    "    #size = len(flatMatrix) * len(flatMatrix[0])\n",
    "    size = 9\n",
    "    return [[round(random.uniform(0, 1), 2)] for i in range(size)]\n",
    "\n",
    "\n",
    "def transpose(flatMatrix):\n",
    "    print(flatMatrix)\n",
    "    # transposedMatrix = [[flatMatrix[j][i] for j in range(len(flatMatrix))] for i in range(len(flatMatrix))]\n",
    "    transposedMatrix = [[element] for element in flatMatrix]\n",
    "    return transposedMatrix\n",
    "\n",
    "# Output: enkelwaardig resultaat\n",
    "# gewogen som \n",
    "def multiply(transposedMatrix, weightMatrix):\n",
    "    weightedSum=[[sum(a*b for a,b in zip(A_row, B_col)) for B_col in zip(*weightMatrix)] \n",
    "        for A_row in transposedMatrix]\n",
    "    return weightedSum\n",
    "\n",
    "def outputBefore(weightedSum, bias):\n",
    "    print(weightedSum)\n",
    "    outputBeforeSoftmax = weightedSum[0][0] + bias\n",
    "    return outputBeforeSoftmax \n",
    "\n",
    "# Input: 3x3 matrix\n",
    "# Output: 2x1 matrix\n",
    "def classify(flatMatrix):\n",
    "        \n",
    "    # Plat maken van de inputMatrix\n",
    "    # 3x3 -> 9x1\n",
    "    flatMatrix = flatten(inputMatrix)\n",
    "    \n",
    "    # Transponeren van de inputMatrix\n",
    "    transposedMatrix = transpose(flatMatrix)    \n",
    "    predictionMatrix = multiply(flatMatrix, weightMatrix)\n",
    "    withBias = outputBefore(weightedSum, bias)\n",
    "    \n",
    "    return predictionMatrix"
   ]
  },
  {
   "cell_type": "code",
   "execution_count": 27,
   "id": "233f7ab6",
   "metadata": {},
   "outputs": [
    {
     "name": "stdout",
     "output_type": "stream",
     "text": [
      "bias : 0.32991881545613366\n",
      "weightMatrix : [[0.08], [0.5], [0.75], [0.01], [0.29], [0.16], [0.93], [0.8], [0.34]]\n",
      "[1, 1, 1, 1, 0, 1, 1, 1, 1]\n",
      "[1, 1, 1, 1, 0, 1, 1, 1, 1]\n",
      "[[1], [1], [1], [1], [0], [1], [1], [1], [1]]\n",
      "[[0.08], [0.08], [0.08], [0.08], [0.0], [0.08], [0.08], [0.08], [0.08]]\n",
      "[1, 0, 1, 0, 1, 0, 1, 0, 1]\n"
     ]
    },
    {
     "ename": "TypeError",
     "evalue": "'int' object is not iterable",
     "output_type": "error",
     "traceback": [
      "\u001b[1;31m---------------------------------------------------------------------------\u001b[0m",
      "\u001b[1;31mTypeError\u001b[0m                                 Traceback (most recent call last)",
      "Cell \u001b[1;32mIn[27], line 23\u001b[0m\n\u001b[0;32m     20\u001b[0m \u001b[38;5;28mprint\u001b[39m(output)\n\u001b[0;32m     22\u001b[0m \u001b[38;5;66;03m#functie geeft 2x1 terug en accepteert 3x3 matrix\u001b[39;00m\n\u001b[1;32m---> 23\u001b[0m \u001b[43mclassify\u001b[49m\u001b[43m(\u001b[49m\u001b[43mtestMatrix\u001b[49m\u001b[43m)\u001b[49m\n",
      "Cell \u001b[1;32mIn[26], line 50\u001b[0m, in \u001b[0;36mclassify\u001b[1;34m(flatMatrix)\u001b[0m\n\u001b[0;32m     48\u001b[0m \u001b[38;5;66;03m# Transponeren van de inputMatrix\u001b[39;00m\n\u001b[0;32m     49\u001b[0m transposedMatrix \u001b[38;5;241m=\u001b[39m transpose(flatMatrix)    \n\u001b[1;32m---> 50\u001b[0m predictionMatrix \u001b[38;5;241m=\u001b[39m \u001b[43mmultiply\u001b[49m\u001b[43m(\u001b[49m\u001b[43mflatMatrix\u001b[49m\u001b[43m,\u001b[49m\u001b[43m \u001b[49m\u001b[43mweightMatrix\u001b[49m\u001b[43m)\u001b[49m\n\u001b[0;32m     51\u001b[0m withBias \u001b[38;5;241m=\u001b[39m outputBefore(weightedSum, bias)\n\u001b[0;32m     53\u001b[0m \u001b[38;5;28;01mreturn\u001b[39;00m predictionMatrix\n",
      "Cell \u001b[1;32mIn[26], line 31\u001b[0m, in \u001b[0;36mmultiply\u001b[1;34m(transposedMatrix, weightMatrix)\u001b[0m\n\u001b[0;32m     30\u001b[0m \u001b[38;5;28;01mdef\u001b[39;00m \u001b[38;5;21mmultiply\u001b[39m(transposedMatrix, weightMatrix):\n\u001b[1;32m---> 31\u001b[0m     weightedSum\u001b[38;5;241m=\u001b[39m[[\u001b[38;5;28msum\u001b[39m(a\u001b[38;5;241m*\u001b[39mb \u001b[38;5;28;01mfor\u001b[39;00m a,b \u001b[38;5;129;01min\u001b[39;00m \u001b[38;5;28mzip\u001b[39m(A_row, B_col)) \u001b[38;5;28;01mfor\u001b[39;00m B_col \u001b[38;5;129;01min\u001b[39;00m \u001b[38;5;28mzip\u001b[39m(\u001b[38;5;241m*\u001b[39mweightMatrix)] \n\u001b[0;32m     32\u001b[0m         \u001b[38;5;28;01mfor\u001b[39;00m A_row \u001b[38;5;129;01min\u001b[39;00m transposedMatrix]\n\u001b[0;32m     33\u001b[0m     \u001b[38;5;28;01mreturn\u001b[39;00m weightedSum\n",
      "Cell \u001b[1;32mIn[26], line 31\u001b[0m, in \u001b[0;36m<listcomp>\u001b[1;34m(.0)\u001b[0m\n\u001b[0;32m     30\u001b[0m \u001b[38;5;28;01mdef\u001b[39;00m \u001b[38;5;21mmultiply\u001b[39m(transposedMatrix, weightMatrix):\n\u001b[1;32m---> 31\u001b[0m     weightedSum\u001b[38;5;241m=\u001b[39m[[\u001b[38;5;28msum\u001b[39m(a\u001b[38;5;241m*\u001b[39mb \u001b[38;5;28;01mfor\u001b[39;00m a,b \u001b[38;5;129;01min\u001b[39;00m \u001b[38;5;28mzip\u001b[39m(A_row, B_col)) \u001b[38;5;28;01mfor\u001b[39;00m B_col \u001b[38;5;129;01min\u001b[39;00m \u001b[38;5;28mzip\u001b[39m(\u001b[38;5;241m*\u001b[39mweightMatrix)] \n\u001b[0;32m     32\u001b[0m         \u001b[38;5;28;01mfor\u001b[39;00m A_row \u001b[38;5;129;01min\u001b[39;00m transposedMatrix]\n\u001b[0;32m     33\u001b[0m     \u001b[38;5;28;01mreturn\u001b[39;00m weightedSum\n",
      "Cell \u001b[1;32mIn[26], line 31\u001b[0m, in \u001b[0;36m<listcomp>\u001b[1;34m(.0)\u001b[0m\n\u001b[0;32m     30\u001b[0m \u001b[38;5;28;01mdef\u001b[39;00m \u001b[38;5;21mmultiply\u001b[39m(transposedMatrix, weightMatrix):\n\u001b[1;32m---> 31\u001b[0m     weightedSum\u001b[38;5;241m=\u001b[39m[[\u001b[38;5;28msum\u001b[39m(a\u001b[38;5;241m*\u001b[39mb \u001b[38;5;28;01mfor\u001b[39;00m a,b \u001b[38;5;129;01min\u001b[39;00m \u001b[38;5;28;43mzip\u001b[39;49m\u001b[43m(\u001b[49m\u001b[43mA_row\u001b[49m\u001b[43m,\u001b[49m\u001b[43m \u001b[49m\u001b[43mB_col\u001b[49m\u001b[43m)\u001b[49m) \u001b[38;5;28;01mfor\u001b[39;00m B_col \u001b[38;5;129;01min\u001b[39;00m \u001b[38;5;28mzip\u001b[39m(\u001b[38;5;241m*\u001b[39mweightMatrix)] \n\u001b[0;32m     32\u001b[0m         \u001b[38;5;28;01mfor\u001b[39;00m A_row \u001b[38;5;129;01min\u001b[39;00m transposedMatrix]\n\u001b[0;32m     33\u001b[0m     \u001b[38;5;28;01mreturn\u001b[39;00m weightedSum\n",
      "\u001b[1;31mTypeError\u001b[0m: 'int' object is not iterable"
     ]
    }
   ],
   "source": [
    "# inputVector\n",
    "testMatrix = [\n",
    "    [1,1,1],\n",
    "    [1,0,1],\n",
    "    [1,1,1]\n",
    "]\n",
    "\n",
    "bias = initializeBias()\n",
    "print(f\"bias : {bias}\")\n",
    "\n",
    "# weightMatrix with size of flattened inputVector\n",
    "size = len(testMatrix) * len(testMatrix[0])\n",
    "weightMatrix = initializeWeightMatrix(size)\n",
    "print(f\"weightMatrix : {weightMatrix}\")\n",
    "flat = flatten(testMatrix)\n",
    "print(flat)\n",
    "transpose1 = transpose(flat)\n",
    "print(transpose1)\n",
    "output = multiply(transpose1, weightMatrix)\n",
    "print(output)\n",
    "\n",
    "#functie geeft 2x1 terug en accepteert 3x3 matrix\n",
    "classify(testMatrix)"
   ]
  },
  {
   "cell_type": "code",
   "execution_count": null,
   "id": "a1613693-2d75-4ff7-b73e-cc67e997db9d",
   "metadata": {},
   "outputs": [],
   "source": []
  },
  {
   "cell_type": "code",
   "execution_count": null,
   "id": "5aa7ca24-d95a-43b9-8416-a48a511e277b",
   "metadata": {},
   "outputs": [],
   "source": []
  }
 ],
 "metadata": {
  "kernelspec": {
   "display_name": "Python 3 (ipykernel)",
   "language": "python",
   "name": "python3"
  },
  "language_info": {
   "codemirror_mode": {
    "name": "ipython",
    "version": 3
   },
   "file_extension": ".py",
   "mimetype": "text/x-python",
   "name": "python",
   "nbconvert_exporter": "python",
   "pygments_lexer": "ipython3",
   "version": "3.10.8"
  }
 },
 "nbformat": 4,
 "nbformat_minor": 5
}
