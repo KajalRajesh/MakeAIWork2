{
 "cells": [
  {
   "cell_type": "markdown",
   "id": "701cadee",
   "metadata": {},
   "source": [
    "# Practicum opdracht implementeren neural net"
   ]
  },
  {
   "cell_type": "markdown",
   "id": "267c511a",
   "metadata": {},
   "source": [
    "## Stap 1: definieren van de dataset\n",
    "\n",
    "We werken met een 3x3 rooster waarbinnen elk vakje zwart (1) of wit (0) kan zijn. We kunnen dus beginnen met het diefiniëren van de dataset. Als datatype gebruiken we lists om de roosters en waardes binnen de roosters te implementeren. Bij een 3x3 rooster zou een enkele lijst volstaan, maar voor de volledigheid wordt er gewerkt met een list-of-lists, waarbij elke sub-lijst een horizontale regel in het rooster is. "
   ]
  },
  {
   "cell_type": "code",
   "execution_count": null,
   "id": "d55e3d7f",
   "metadata": {},
   "outputs": [],
   "source": [
    "import random"
   ]
  },
  {
   "cell_type": "code",
   "execution_count": null,
   "id": "4693160e",
   "metadata": {},
   "outputs": [],
   "source": [
    "# # Classes\n",
    "\n",
    "# # 3 x 3 matrix\n",
    "\n",
    "# # Een hele cirkel\n",
    "# cirkel = [[1,1,1],\n",
    "#           [1,0,1],\n",
    "#           [1,1,1]]\n",
    "\n",
    "# # Een recht kruis\n",
    "# kruis_1 = [[0,1,0],\n",
    "#            [1,1,1],\n",
    "#            [0,1,0]]\n"
   ]
  },
  {
   "cell_type": "code",
   "execution_count": null,
   "id": "483384f6-d197-47d9-b0e0-9382fd445695",
   "metadata": {},
   "outputs": [],
   "source": [
    "# matrix = [[1,1,1],\n",
    "#           [1,0,1],\n",
    "#           [1,1,1]]\n",
    "\n",
    "\n",
    "# # def transpose(matrix):\n",
    "# #     transposedMatrix =list(map(list, zip(*matrix)))\n",
    "# #     return transposedMatrix\n",
    "\n",
    "\n",
    "# # print(transpose(matrix))\n",
    "\n",
    "# # Input: 3x3\n",
    "# # Output: # 9 x 1\n",
    "# def flatten(matrix):\n",
    "#     transposedMatrix =list(map(list, zip(*matrix)))\n",
    "#     flatMatrix = [[item for sub_list in transposedMatrix for item in sub_list]]\n",
    "#     return flatMatrix\n",
    "# print(flatten(matrix))\n"
   ]
  },
  {
   "cell_type": "markdown",
   "id": "d0a3f633",
   "metadata": {},
   "source": [
    "<p>\n",
    "    labels staan in een predictionMatrix<br>\n",
    "    waarbij het eerste getal de score op cirkel<br> \n",
    "    en de tweede de score op kruis<br>\n",
    "    2 x 1 matrix<br>\n",
    "    [[scoreCirkel], [scoreKruis]]\n",
    "</p>    "
   ]
  },
  {
   "cell_type": "code",
   "execution_count": null,
   "id": "841c9de1",
   "metadata": {},
   "outputs": [],
   "source": [
    "# a = random.uniform(0, 1)\n",
    "# b = random.uniform(0, 1)\n",
    "# type((a, b))"
   ]
  },
  {
   "cell_type": "code",
   "execution_count": null,
   "id": "3c5db9dc-f0db-4862-837e-fc4da872782d",
   "metadata": {},
   "outputs": [],
   "source": [
    "# def initializeBias():\n",
    "#     # Matrixvermenigvuldiging van de getransponeerde platgemaakte inputMatrix\n",
    "#     # en de weightMatrix       \n",
    "#     return random.uniform(0, 1)\n",
    "\n",
    "# # Initializeer bias en weightVector met random numbers tussen 0 en 1\n",
    "\n",
    "\n",
    "# # Input: 3x3\n",
    "# # Output: # 9 x 1\n",
    "# def flatten(inputMatrix):    \n",
    "#     flatMatrix = [item for sub_list in inputMatrix for item in sub_list]\n",
    "#     print(flatMatrix)"
   ]
  },
  {
   "cell_type": "code",
   "execution_count": 155,
   "id": "cda9d7c2",
   "metadata": {},
   "outputs": [
    {
     "name": "stdout",
     "output_type": "stream",
     "text": [
      "[[1, 1, 1, 1, 0, 1, 1, 1, 1]]\n"
     ]
    }
   ],
   "source": [
    "\n",
    "\n",
    "# Initializeer bias en weightVector met random numbers tussen 0 en 1\n",
    "\n",
    "# def transpose(matrix):\n",
    "#     transposedMatrix = [[flatMatrix[j][i]  for j in range(len(flatMatrix))] for i in range(len(flatMatrix[0]))]\n",
    "#     return transposedMatrix\n",
    "\n",
    "\n",
    "# def transpose(matrix):\n",
    "#     transposedMatrix =list(map(list, zip(*matrix)))\n",
    "#     return transposedMatrix\n",
    "\n",
    "# # Input: 3x3\n",
    "# # Output: # 9 x 1\n",
    "# def flatten(matrix):\n",
    "    \n",
    "#     flatMatrix = [item for sub_list in transposedMatrix for item in sub_list]\n",
    "#     return flatMatrix\n",
    "def flatten(matrix):\n",
    "    transposedMatrix =list(map(list, zip(*matrix)))\n",
    "    flatMatrix = [[item for sub_list in transposedMatrix for item in sub_list]]\n",
    "    return flatMatrix\n",
    "print(flatten(matrix))\n",
    "\n",
    "\n",
    "#def initializeWeightMatrix(rows, columns, a, b):\n",
    "def initializeWeightMatrix(columns,rows,a, b):\n",
    "    \n",
    "    # rows = 9\n",
    "    # columns = 2\n",
    "    # a = 0\n",
    "    # b = 1\n",
    "    #def generate_random_matrix(rows, columns, a, b):\n",
    "    return [[round(random.uniform(a, b), 2) for _ in range(columns)] for _ in range(rows)]\n",
    "    \n",
    "\n",
    "\n",
    "# Output: enkelwaardig resultaat\n",
    "# gewogen som \n",
    "def multiply(flatMatrix, weightMatrix):\n",
    "    outputMatrix = [[round(sum(a*b for a,b in zip(A_row, B_col)), 2) for B_col in zip(*weightMatrix)] \n",
    "             for A_row in flatMatrix]\n",
    "    return outputMatrix\n",
    "   # return weightedSum\n",
    "\n",
    "    \n",
    "def initializeBias(columns1,rows1,a1, b1):\n",
    "    # Matrixvermenigvuldiging van de getransponeerde platgemaakte inputMatrix\n",
    "    # en de weightMatrix   \n",
    "    \n",
    "    return [[round(random.uniform(a1, b1), 2) for _ in range(columns1)] for _ in range(rows1)]\n",
    "\n",
    "def outputBefore(outputMatrix, bias):\n",
    "    print(outputMatrix)\n",
    "    outputBeforeSoftmax = outputMatrix + bias\n",
    "    return outputBeforeSoftmax\n",
    "    print(outputBeforeSoftmax)\n",
    "\n",
    "    \n",
    "\n",
    "# Input: 3x3 matrix\n",
    "# Output: 2x1 matrix\n",
    "def classify(inputMatrix):\n",
    "        \n",
    "    # Plat maken van de inputMatrix\n",
    "    # 3x3 -> 1*9\n",
    "    flatMatrix = flatten(inputMatrix)\n",
    "    \n",
    "    # Transponeren van de inputMatrix\n",
    "    #transposedMatrix = transpose(flatMatrix)    \n",
    "    predictionMatrix = multiply(flatMatrix, weightMatrix)\n",
    "    outputmat = outputBefore(predictionMatrix, bias)\n",
    "    \n",
    "    return outputmat\n"
   ]
  },
  {
   "cell_type": "code",
   "execution_count": null,
   "id": "a98b89dd",
   "metadata": {},
   "outputs": [],
   "source": []
  },
  {
   "cell_type": "code",
   "execution_count": 156,
   "id": "233f7ab6",
   "metadata": {},
   "outputs": [
    {
     "name": "stdout",
     "output_type": "stream",
     "text": [
      "bias : [[0.89], [0.47]]\n",
      "weightMatrix : [[0.48, 0.1, 0.81, 0.53, 0.07, 0.45, 0.68, 0.96, 0.85], [0.52, 0.33, 0.02, 0.71, 0.31, 0.54, 0.82, 0.22, 0.8]]\n",
      "[[1.0, 0.43, 0.83, 1.24, 0.38, 0.99, 1.5, 1.18, 1.65]]\n",
      "[[1.0, 0.43, 0.83, 1.24, 0.38, 0.99, 1.5, 1.18, 1.65], [0.89], [0.47]]\n",
      "[[0.52, 0.33, 0.02, 0.71, 0.31, 0.54, 0.82, 0.22, 0.8]]\n",
      "[[0.52, 0.33, 0.02, 0.71, 0.31, 0.54, 0.82, 0.22, 0.8], [0.89], [0.47]]\n"
     ]
    }
   ],
   "source": [
    "# inputVector\n",
    "test_circle = [\n",
    "    [1,1,1],\n",
    "    [1,0,1],\n",
    "    [1,1,1]]\n",
    "\n",
    "\n",
    "kruis_1 = [[0,1,0],\n",
    "           [1,1,1],\n",
    "           [0,1,0]]\n",
    "\n",
    "bias = initializeBias(1,2,0,1)\n",
    "print(f\"bias : {bias}\")\n",
    "\n",
    "# weightMatrix with size of flattened inputVector\n",
    "\n",
    "\n",
    "#size = len(test_circle) * len(test_circle[0])\n",
    "weightMatrix = initializeWeightMatrix(9,2,0,1)\n",
    "print(f\"weightMatrix : {weightMatrix}\")\n",
    "\n",
    "#functie geeft 2x1 terug en accepteert 3x3 matrix\n",
    "#classify(test_circle)\n",
    "circle1 = classify(test_circle)\n",
    "\n",
    "print(circle1)\n",
    "kruis1 = classify(kruis_1)\n",
    "print(kruis1)"
   ]
  },
  {
   "cell_type": "markdown",
   "id": "6e0c8a96-c76a-4e05-ade5-04d5d11356ad",
   "metadata": {},
   "source": [
    "#### "
   ]
  },
  {
   "cell_type": "code",
   "execution_count": null,
   "id": "1804f75f-2140-4531-8848-a97a3e82e4d5",
   "metadata": {},
   "outputs": [],
   "source": []
  },
  {
   "cell_type": "code",
   "execution_count": null,
   "id": "26098f3e-cc5f-4309-beb0-0007d699451c",
   "metadata": {},
   "outputs": [],
   "source": []
  },
  {
   "cell_type": "code",
   "execution_count": null,
   "id": "e1db9111-4997-4a1f-8f25-1b53087fa949",
   "metadata": {},
   "outputs": [],
   "source": []
  }
 ],
 "metadata": {
  "kernelspec": {
   "display_name": "Python 3 (ipykernel)",
   "language": "python",
   "name": "python3"
  },
  "language_info": {
   "codemirror_mode": {
    "name": "ipython",
    "version": 3
   },
   "file_extension": ".py",
   "mimetype": "text/x-python",
   "name": "python",
   "nbconvert_exporter": "python",
   "pygments_lexer": "ipython3",
   "version": "3.10.8"
  }
 },
 "nbformat": 4,
 "nbformat_minor": 5
}
