{
 "cells": [
  {
   "cell_type": "code",
   "execution_count": 50,
   "id": "73df2299-5fa5-458a-b70e-fd03e80c0dda",
   "metadata": {
    "tags": []
   },
   "outputs": [],
   "source": [
    "\n",
    "import pandas as pd\n",
    "import torch\n",
    "from torch.utils.data import Dataset, DataLoader\n",
    "from sklearn.preprocessing import LabelEncoder\n",
    "import numpy as np\n",
    "import matplotlib.pyplot as plt"
   ]
  },
  {
   "cell_type": "code",
   "execution_count": 51,
   "id": "62329f51-9f57-4ce3-9459-0d3c1dcd7068",
   "metadata": {
    "tags": []
   },
   "outputs": [
    {
     "name": "stdout",
     "output_type": "stream",
     "text": [
      "tensor([[1.7593, 1.7011, 1.3506],\n",
      "        [2.2408, 1.2861, 1.0230],\n",
      "        [1.3259, 1.4201, 1.1409],\n",
      "        ...,\n",
      "        [2.9162, 1.1298, 1.0319],\n",
      "        [1.9019, 1.3034, 1.6625],\n",
      "        [1.9321, 1.5621, 0.9012]]) tensor([[1.],\n",
      "        [1.],\n",
      "        [2.],\n",
      "        ...,\n",
      "        [1.],\n",
      "        [1.],\n",
      "        [1.]])\n"
     ]
    }
   ],
   "source": [
    "df = pd.read_csv('sonar3.csv', delim_whitespace=True, header=None, index_col=False)\n",
    "data = df\n",
    "\n",
    "X = data.iloc[:, 0:3].values\n",
    "\n",
    "y = data.iloc[:, 3].values\n",
    "\n",
    " \n",
    "#encode class values as integers\n",
    "encoder = LabelEncoder()\n",
    "encoder.fit(y)\n",
    "y = encoder.transform(y)\n",
    "\n",
    " \n",
    "# convert into PyTorch tensors\n",
    "X = torch.tensor(X, dtype=torch.float32)\n",
    "y = torch.tensor(y, dtype=torch.float32).reshape(-1, 1)\n",
    " \n",
    "# create DataLoader, then take one batch\n",
    "loader = DataLoader(list(zip(X,y)), shuffle=True, batch_size=len(X_train))\n",
    "for X_batch, y_batch in loader:\n",
    "    print(X_batch, y_batch)\n",
    "    break"
   ]
  },
  {
   "cell_type": "code",
   "execution_count": 52,
   "id": "328546eb-7316-445d-aaba-27e0951e30d5",
   "metadata": {
    "tags": []
   },
   "outputs": [
    {
     "name": "stdout",
     "output_type": "stream",
     "text": [
      "Model accuracy: 75.60%\n"
     ]
    }
   ],
   "source": [
    "import torch.nn as nn\n",
    "import torch.optim as optim\n",
    "from sklearn.model_selection import train_test_split\n",
    " \n",
    "# train-test split for evaluation of the model\n",
    "X_train, X_test, y_train, y_test = train_test_split(X, y, train_size=0.7, shuffle=True)\n",
    " \n",
    "# set up DataLoader for training set\n",
    "loader = DataLoader(list(zip(X_train, y_train)), shuffle=True, batch_size=len(X_train))\n",
    " \n",
    "# create model\n",
    "model = nn.Sequential(\n",
    "    nn.Linear(3, 3),\n",
    "    nn.ReLU(),\n",
    "    nn.Linear(3, 3),\n",
    "    nn.ReLU(),\n",
    "    nn.Linear(3, 1),\n",
    "    nn.Sigmoid()\n",
    ")\n",
    " \n",
    "# Train the model\n",
    "n_epochs = 200\n",
    "loss_fn = nn.BCELoss()\n",
    "loss_values = []\n",
    "optimizer = optim.SGD(model.parameters(), lr=0.1)\n",
    "model.train()\n",
    "for epoch in range(n_epochs):\n",
    "    for X_batch, y_batch in loader:\n",
    "        optimizer.zero_grad()\n",
    "        y_pred = model(X_batch)\n",
    "        \n",
    "        loss = loss_fn(y_pred, y_batch)\n",
    "       \n",
    "        \n",
    "        \n",
    "        loss_values.append(loss.item())\n",
    "        #print(len(loss_values))\n",
    "        loss.backward()\n",
    "        optimizer.step()\n",
    " \n",
    "# evaluate accuracy after training\n",
    "model.eval()\n",
    "y_pred = model(X_test)\n",
    "acc = (y_pred.round() == y_test).float().mean()\n",
    "acc = float(acc)\n",
    "print(\"Model accuracy: %.2f%%\" % (acc*100))"
   ]
  },
  {
   "cell_type": "code",
   "execution_count": 53,
   "id": "d8ce0788-8780-4482-8f8c-5c91026e7da0",
   "metadata": {},
   "outputs": [
    {
     "data": {
      "image/png": "[encoded data removed]",
      "text/plain": [
       "<Figure size 640x480 with 1 Axes>"
      ]
     },
     "metadata": {},
     "output_type": "display_data"
    }
   ],
   "source": [
    "\n",
    "fig, ax = plt.subplots()\n",
    "ax.set(xlabel='Epoch', ylabel='Cost', title=\"Training Cost\")\n",
    "\n",
    "plt.plot([x for x in range(n_epochs)], loss_values, 'red')\n",
    "plt.show()\n"
   ]
  },
  {
   "cell_type": "code",
   "execution_count": null,
   "id": "eae965a7-f28d-41ac-b2d4-04af6c69477f",
   "metadata": {},
   "outputs": [],
   "source": []
  },
  {
   "cell_type": "code",
   "execution_count": null,
   "id": "e131ce1c-3237-48aa-8546-30b4207e59f2",
   "metadata": {},
   "outputs": [],
   "source": []
  }
 ],
 "metadata": {
  "kernelspec": {
   "display_name": "Python 3 (ipykernel)",
   "language": "python",
   "name": "python3"
  },
  "language_info": {
   "codemirror_mode": {
    "name": "ipython",
    "version": 3
   },
   "file_extension": ".py",
   "mimetype": "text/x-python",
   "name": "python",
   "nbconvert_exporter": "python",
   "pygments_lexer": "ipython3",
   "version": "3.10.11"
  }
 },
 "nbformat": 4,
 "nbformat_minor": 5
}
