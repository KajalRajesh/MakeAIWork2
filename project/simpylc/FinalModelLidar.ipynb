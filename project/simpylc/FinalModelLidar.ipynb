{
 "cells": [
  {
   "cell_type": "code",
   "execution_count": 24,
   "id": "d46a24ca-960f-4d78-8bef-5e79ed84dc42",
   "metadata": {
    "tags": []
   },
   "outputs": [],
   "source": [
    "import os\n",
    "import torch\n",
    "import pandas as pd\n",
    "import pickle as pkl\n",
    "import matplotlib.pyplot as plt\n",
    "import mlflow\n",
    "\n",
    "from torch import nn\n",
    "from torch.utils.data import Dataset, DataLoader\n",
    "from sklearn.model_selection import train_test_split"
   ]
  },
  {
   "cell_type": "code",
   "execution_count": 25,
   "id": "28b08751-624b-4bd9-808d-95f640ae53d6",
   "metadata": {
    "tags": []
   },
   "outputs": [],
   "source": [
    "\n",
    "# Read data, convert to PyTorch tensors\n",
    "data_samples = \"lidar.csv\"\n",
    "data = pd.read_csv(data_samples, header=None)\n",
    "X = data.iloc[:, 0:16].values\n",
    "y = data.iloc[:, 16].values\n",
    "\n",
    "trainingSetX = torch.tensor(X, dtype=torch.float32)\n",
    "trainingSetY = torch.tensor(y, dtype=torch.float32).reshape(-1, 1)"
   ]
  },
  {
   "cell_type": "code",
   "execution_count": 26,
   "id": "0600ea3a-478b-41f1-a5ca-a4fca75ce4e6",
   "metadata": {
    "tags": []
   },
   "outputs": [
    {
     "name": "stdout",
     "output_type": "stream",
     "text": [
      "Using cpu device\n"
     ]
    }
   ],
   "source": [
    "\n",
    "# use Cuda Y/N \n",
    "\n",
    "device = torch.device(\"cuda\" if torch.cuda.is_available() else \"cpu\")\n",
    "print(f\"Using {device} device\")"
   ]
  },
  {
   "cell_type": "code",
   "execution_count": 27,
   "id": "507188e2-cfbd-4170-a301-c2b5dd11240d",
   "metadata": {},
   "outputs": [],
   "source": [
    "\n",
    "#Neural Network construction\n",
    "class NeuralNetwork(nn.Module):\n",
    "    def __init__(self, inputs, outputs):\n",
    "        super().__init__()\n",
    "        self.linear_relu_stack = nn.Sequential(\n",
    "            nn.Linear(inputs, 64),\n",
    "            nn.ReLU(),\n",
    "            nn.Linear(64, 32),\n",
    "            nn.ReLU(),\n",
    "            nn.Linear(32, outputs),\n",
    "            \n",
    "        )\n",
    "\n",
    "    def forward(self, x):\n",
    "        logits = self.linear_relu_stack(x)\n",
    "        return logits"
   ]
  },
  {
   "cell_type": "code",
   "execution_count": 28,
   "id": "3868c64e-232a-4b08-b7d0-b4a4ef4bdf9a",
   "metadata": {
    "tags": []
   },
   "outputs": [],
   "source": [
    "\n",
    "\n",
    "#model Training\n",
    "\n",
    "\n",
    "model = NeuralNetwork(16, 1)\n",
    "\n",
    "epochs = 250\n",
    "batch_size = 64\n",
    "learningRate = 0.0008\n",
    "losses = []\n",
    "\n",
    "lossFunction = nn.MSELoss()\n",
    "gradientDescent = torch.optim.Adam(model.parameters(), lr=learningRate)\n",
    "\n",
    "loader = DataLoader(\n",
    "    dataset=torch.utils.data.TensorDataset(trainingSetX, trainingSetY),\n",
    "    batch_size=batch_size,\n",
    "    shuffle=True\n",
    ")\n",
    "\n",
    "\n",
    "\n",
    "for epoch in range(epochs):\n",
    "    epoch_loss = 0.0\n",
    "    for x, y in loader:\n",
    "       \n",
    "        gradientDescent.zero_grad()\n",
    "        yhat = model(x)\n",
    "        loss = lossFunction(yhat, y)\n",
    "        epoch_loss += loss.item()\n",
    "        loss.backward()\n",
    "        gradientDescent.step()\n",
    "    losses.append(epoch_loss / len(loader))\n",
    "\n",
    "\n"
   ]
  },
  {
   "cell_type": "code",
   "execution_count": 29,
   "id": "ce933d91-9dde-4bca-879a-6467eb870e15",
   "metadata": {},
   "outputs": [],
   "source": [
    "#Machine Learning Flow\n",
    "\n",
    "sensor = \"lidar\"\n",
    "hidden_layers = \"64_32\"\n",
    "activation = \"ReLU_ReLU\"\n",
    "batch_size = \"64\"\n",
    "\n",
    "mlflow.set_experiment('NeuralNetwork')\n",
    "\n",
    "# with mlflow.start_run(run_name=f'Neural net ({sensor}) | layers: {len(hidden_layers)}, epochs: {epochs}, lr: {lr}, batchsize: {batch_size}'):\n",
    "with mlflow.start_run(run_name=f'NN({sensor}) {hidden_layers}, epochs: {epochs}, lr: {learningRate}, batch_size =    {batch_size}'):\n",
    "\n",
    "\n",
    "    mlflow.log_param('sensor', sensor)\n",
    "    mlflow.log_param('data_samples', data_samples)\n",
    "    \n",
    "    mlflow.log_param('hidden_layers', hidden_layers)\n",
    "    mlflow.log_param('activation', activation)\n",
    "\n",
    "    mlflow.log_param('epochs', epochs)\n",
    "    mlflow.log_param('lr', learningRate)\n",
    "    mlflow.log_param('batch_size', batch_size)\n",
    "\n",
    "    mlflow.log_param('optimizer', gradientDescent)\n",
    "    mlflow.log_param('loss_fn', lossFunction)\n",
    "    mlflow.log_metric('losses', losses[-1])\n"
   ]
  },
  {
   "cell_type": "code",
   "execution_count": 30,
   "id": "9ac6fe01-f411-4cef-aaba-028f1de69639",
   "metadata": {},
   "outputs": [],
   "source": [
    "# Saving Model\n",
    "with open('SDCar_Lidar.pth', 'wb') as f:\n",
    "    torch.save(model.linear_relu_stack, f)"
   ]
  },
  {
   "cell_type": "code",
   "execution_count": 31,
   "id": "0a6ae695-0c3a-4474-a29a-486aff8b5369",
   "metadata": {
    "tags": []
   },
   "outputs": [
    {
     "data": {
      "image/png": "[encoded data removed]",
      "text/plain": [
       "<Figure size 640x480 with 1 Axes>"
      ]
     },
     "metadata": {},
     "output_type": "display_data"
    }
   ],
   "source": [
    "# Compare\n",
    "fig, ax = plt.subplots()\n",
    "ax.set(xlabel='Epoch', ylabel='Cost', title=\"Training Cost\")\n",
    "plt.plot([x for x in range(epochs)], losses, 'red')\n",
    "plt.show()"
   ]
  }
 ],
 "metadata": {
  "kernelspec": {
   "display_name": "Python 3 (ipykernel)",
   "language": "python",
   "name": "python3"
  },
  "language_info": {
   "codemirror_mode": {
    "name": "ipython",
    "version": 3
   },
   "file_extension": ".py",
   "mimetype": "text/x-python",
   "name": "python",
   "nbconvert_exporter": "python",
   "pygments_lexer": "ipython3",
   "version": "3.10.11"
  }
 },
 "nbformat": 4,
 "nbformat_minor": 5
}
