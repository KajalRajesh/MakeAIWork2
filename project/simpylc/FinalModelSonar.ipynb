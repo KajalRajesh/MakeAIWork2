{
 "cells": [
  {
   "cell_type": "code",
   "execution_count": 32,
   "id": "6024bbbc-169d-4b34-962a-184b21942a8e",
   "metadata": {
    "tags": []
   },
   "outputs": [],
   "source": [
    "import os\n",
    "import torch\n",
    "import pandas as pd\n",
    "import mlflow\n",
    "\n",
    "from torch import nn\n",
    "from torch import optim\n",
    "from torch.utils.data import Dataset, DataLoader\n",
    "from sklearn.model_selection import train_test_split\n",
    "\n",
    "import torch.nn.functional as F\n",
    "import pickle as pkl\n",
    "import matplotlib.pyplot as plt\n"
   ]
  },
  {
   "cell_type": "code",
   "execution_count": 33,
   "id": "1eb8324e-0945-4a78-aad3-9768811c1742",
   "metadata": {
    "tags": []
   },
   "outputs": [],
   "source": [
    "\n",
    "# Read data, convert to tensors\n",
    "\n",
    "data_samples =\"sonar.csv\" \n",
    "data = pd.read_csv(data_samples, header=None)\n",
    "# data.head()\n",
    "# data.info()\n",
    "# data.shape\n",
    "# data.ndim\n",
    "# data.describe()\n",
    "# data.isnull().sum()\n",
    "# data.nunique()\n",
    "# data.memory_usage( )"
   ]
  },
  {
   "cell_type": "code",
   "execution_count": 42,
   "id": "7887a335-4629-4656-8311-6b6528d59793",
   "metadata": {},
   "outputs": [
    {
     "name": "stdout",
     "output_type": "stream",
     "text": [
      "torch.Size([3200, 3])\n",
      "torch.Size([3200, 1])\n"
     ]
    }
   ],
   "source": [
    "X = data.iloc[:, 0:3].values\n",
    "y = data.iloc[:, 3].values\n",
    "\n",
    "# convert into PyTorch tensors\n",
    "trainingSetX = torch.tensor(X, dtype=torch.float32)\n",
    "trainingSetY = torch.tensor(y, dtype=torch.float32).reshape(-1, 1)\n",
    "\n",
    "\n",
    "\n",
    "print(trainingSetX.shape)\n",
    "print(trainingSetY.shape)\n",
    "\n",
    "\n",
    "\n",
    "loader = DataLoader(list(zip(trainingSetX,trainingSetY)), shuffle=True)\n"
   ]
  },
  {
   "cell_type": "code",
   "execution_count": 35,
   "id": "b5e704c6-52d9-4f23-9632-f74bb5e260fa",
   "metadata": {
    "tags": []
   },
   "outputs": [
    {
     "name": "stdout",
     "output_type": "stream",
     "text": [
      "Using cpu device\n"
     ]
    }
   ],
   "source": [
    "\n",
    "# use Cuda Y/N \n",
    "\n",
    "\n",
    "device = (\n",
    "    \"cuda\" if torch.cuda.is_available() else \"mps\" if torch.backends.mps.is_available() else \"cpu\"\n",
    ")\n",
    "\n",
    "\n",
    "print(f\"Using {device} device\")\n",
    "\n"
   ]
  },
  {
   "cell_type": "code",
   "execution_count": 36,
   "id": "ea2b0a79-fc5e-46de-bcd9-88eb8a3905ca",
   "metadata": {
    "tags": []
   },
   "outputs": [],
   "source": [
    "\n",
    "#Neural Network construction\n",
    "\n",
    "\n",
    "class NeuralNetwork(nn.Module):\n",
    "    \n",
    "    def __init__(self, inputs, outputs):\n",
    "        \n",
    "        super().__init__()\n",
    "        \n",
    "        # Simple linear connections\n",
    "        self.linear_relu_stack = nn.Sequential(\n",
    "            nn.Linear(inputs, 36),\n",
    "            nn.ReLU(),\n",
    "            nn.Linear(36, 24),\n",
    "            nn.ReLU(),\n",
    "            nn.Linear(24, 12),\n",
    "            nn.SiLU(),\n",
    "            nn.Linear(12, outputs),\n",
    "            # nn.ReLU()\n",
    "        )\n",
    "            \n",
    "    def forward(self, x):\n",
    "        \n",
    "        return self.linear_relu_stack(x)\n",
    "\n"
   ]
  },
  {
   "cell_type": "code",
   "execution_count": 37,
   "id": "938df5ad-d5b6-4528-a105-72deac767561",
   "metadata": {
    "tags": []
   },
   "outputs": [
    {
     "name": "stdout",
     "output_type": "stream",
     "text": [
      "NeuralNetwork(\n",
      "  (linear_relu_stack): Sequential(\n",
      "    (0): Linear(in_features=3, out_features=36, bias=True)\n",
      "    (1): ReLU()\n",
      "    (2): Linear(in_features=36, out_features=24, bias=True)\n",
      "    (3): ReLU()\n",
      "    (4): Linear(in_features=24, out_features=12, bias=True)\n",
      "    (5): SiLU()\n",
      "    (6): Linear(in_features=12, out_features=1, bias=True)\n",
      "  )\n",
      ")\n"
     ]
    }
   ],
   "source": [
    "\n",
    "\n",
    "# Model Training: \n",
    "model = NeuralNetwork(3, 1)\n",
    "print(model)\n",
    "\n",
    "\n",
    "# Take binary cross entropy as loss function (one output interpreted as binary)\n",
    "# lossFunction = nn.BCELoss()\n",
    "lossFunction = nn.MSELoss()\n",
    "\n",
    "# Use stochastic gradient descent as optimizer, use weights and biases of model\n",
    "gradientDescent = torch.optim.Adam(model.parameters(), lr=learningRate)\n",
    "\n",
    "epochs = 100\n",
    "\n",
    "learningRate = 0.00008\n",
    "\n",
    "losses = []\n",
    "\n",
    "\n",
    "\n",
    "\n",
    "\n",
    "for epoch in range(epochs):\n",
    "    \n",
    "    \n",
    "    added = False\n",
    "    epochLoss = 0.0\n",
    "    \n",
    "    for x, y in loader:\n",
    "    \n",
    "        # Reset the gradient delta's (dw, db)\n",
    "        gradientDescent.zero_grad()\n",
    "\n",
    "        # Forward step\n",
    "        yhat = model(x)\n",
    "\n",
    "        # Compute loss\n",
    "        loss = lossFunction(yhat, y)\n",
    "        \n",
    "        if not added:\n",
    "            \n",
    "            added = True\n",
    "        \n",
    "            # Keep track of loss\n",
    "            epochLoss += loss.item()\n",
    "\n",
    "        # Apply gradient descent (via backpropagation)\n",
    "        loss.backward()\n",
    "\n",
    "        # Use w += -step * dw * learnRate\n",
    "        gradientDescent.step()\n",
    "        \n",
    "    losses.append(epochLoss / len(loader))\n",
    "        \n",
    "        \n",
    "\n"
   ]
  },
  {
   "cell_type": "code",
   "execution_count": 39,
   "id": "f60db2c7-40d3-4af7-83cf-aab475c4a8bd",
   "metadata": {},
   "outputs": [],
   "source": [
    "#Machine Learning Flow\n",
    "\n",
    "sensor = \"sonar\"\n",
    "hidden_layers = \"36_24_12\"\n",
    "activation = \"ReLU_ReLU_SiLU\"\n",
    "\n",
    "mlflow.set_experiment('NeuralNetwork')\n",
    "\n",
    "# with mlflow.start_run(run_name=f'Neural net ({sensor}) | layers: {len(hidden_layers)}, epochs: {epochs}, lr: {lr}, batchsize: {batch_size}'):\n",
    "with mlflow.start_run(run_name=f'NN({sensor}) {hidden_layers}, epochs: {epochs}, lr: {learningRate}'):\n",
    "\n",
    "\n",
    "    mlflow.log_param('sensor', sensor)\n",
    "    mlflow.log_param('data_samples', data_samples)\n",
    "    \n",
    "    mlflow.log_param('hidden_layers', hidden_layers)\n",
    "    mlflow.log_param('activation', activation)\n",
    "\n",
    "    mlflow.log_param('epochs', epochs)\n",
    "    mlflow.log_param('lr', learningRate)\n",
    "   # mlflow.log_param('batch_size', batch_size)\n",
    "\n",
    "    mlflow.log_param('optimizer', gradientDescent)\n",
    "    mlflow.log_param('loss_fn', lossFunction)\n",
    "    mlflow.log_metric('epochLoss', losses[-1])\n"
   ]
  },
  {
   "cell_type": "code",
   "execution_count": 40,
   "id": "8b90a8a3-bf9b-4cac-835c-ce43e2f48b20",
   "metadata": {},
   "outputs": [],
   "source": [
    "# # Saving Model\n",
    "# filehandler = open('SDCar.pkl', 'wb')\n",
    "# pkl.dump(model.linear_relu_stack, filehandler)\n",
    "\n",
    "filehandler = open('SDCar_sonar.pth', 'wb')\n",
    "torch.save(model.linear_relu_stack, filehandler)"
   ]
  },
  {
   "cell_type": "code",
   "execution_count": 41,
   "id": "50aa443a-aa5c-478c-b8ea-9c25d6ef8c6e",
   "metadata": {
    "tags": []
   },
   "outputs": [
    {
     "data": {
      "image/png": "[encoded data removed]",
      "text/plain": [
       "<Figure size 640x480 with 1 Axes>"
      ]
     },
     "metadata": {},
     "output_type": "display_data"
    }
   ],
   "source": [
    "# Compare\n",
    "\n",
    "fig, ax = plt.subplots()\n",
    "ax.set(xlabel='Epoch', ylabel='Cost', title=\"Training Cost\")\n",
    "\n",
    "plt.plot([x for x in range(epochs)], losses, 'red')\n",
    "plt.show()\n",
    "\n"
   ]
  },
  {
   "cell_type": "code",
   "execution_count": null,
   "id": "8e1358f6-6c29-47db-8338-def000de2828",
   "metadata": {},
   "outputs": [],
   "source": []
  }
 ],
 "metadata": {
  "kernelspec": {
   "display_name": "Python 3 (ipykernel)",
   "language": "python",
   "name": "python3"
  },
  "language_info": {
   "codemirror_mode": {
    "name": "ipython",
    "version": 3
   },
   "file_extension": ".py",
   "mimetype": "text/x-python",
   "name": "python",
   "nbconvert_exporter": "python",
   "pygments_lexer": "ipython3",
   "version": "3.10.11"
  }
 },
 "nbformat": 4,
 "nbformat_minor": 5
}
