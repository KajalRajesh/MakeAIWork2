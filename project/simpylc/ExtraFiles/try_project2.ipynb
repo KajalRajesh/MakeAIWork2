{
 "cells": [
  {
   "cell_type": "code",
   "execution_count": 63,
   "id": "dfa5d86a-35a9-4c4b-bb7f-bfbd138ad155",
   "metadata": {
    "tags": []
   },
   "outputs": [],
   "source": [
    "import torch\n",
    "import torchvision\n",
    "import numpy as np\n",
    "import matplotlib.pyplot as plt\n",
    "import torch.nn as nn\n",
    "import torch.nn.functional as F\n",
    "from torchvision.datasets import FashionMNIST\n",
    "\n",
    "from torchvision.utils import make_grid\n",
    "from torch.utils.data.dataloader import DataLoader\n",
    "from torch.utils.data import random_split\n",
    "%matplotlib inline\n",
    "import numpy as np\n",
    "import pandas as pd"
   ]
  },
  {
   "cell_type": "code",
   "execution_count": null,
   "id": "a50cc7df-2f46-4f10-b7c9-b861eb9591aa",
   "metadata": {
    "tags": []
   },
   "outputs": [],
   "source": [
    "X =  pd.read_csv('sonar.samples',delim_whitespace=True, header=None, index_col=False )\n",
    "data = torch.tensor(X.values)\n",
    "print(data)\n",
    "\n",
    "\n",
    "validation_size = 1000\n",
    "train_size = len(data) - validation_size\n",
    "print(train_size)\n",
    "\n",
    "train_data, val_data = random_split(data, [train_size, validation_size])\n",
    "\n",
    "batch_size=4\n",
    "\n",
    "train_loader = DataLoader(train_data, batch_size, shuffle=True, num_workers=4, pin_memory=True)\n",
    "val_loader = DataLoader(val_data, batch_size*2, num_workers=4, pin_memory=True)\n",
    "print(val_loader)"
   ]
  },
  {
   "cell_type": "code",
   "execution_count": null,
   "id": "b591193e-a65b-41ac-91d2-022969915dfe",
   "metadata": {
    "tags": []
   },
   "outputs": [],
   "source": [
    "class FFNN(nn.Module):\n",
    "    \"\"\"Simple Feed Forward Neural Network with n hidden layers\"\"\"\n",
    "    def __init__(self, input_size, num_hidden_layers, hidden_size, out_size, accuracy_function):\n",
    "        super().__init__()\n",
    "        self.accuracy_function = accuracy_function\n",
    "        \n",
    "        # Create first hidden layer\n",
    "        self.input_layer = nn.Linear(input_size, hidden_size)\n",
    "        \n",
    "        # Create remaining hidden layers\n",
    "        self.hidden_layers = nn.ModuleList()\n",
    "        for i in range(0, num_hidden_layers):\n",
    "            self.hidden_layers.append(nn.Linear(hidden_size, hidden_size))\n",
    "        \n",
    "        # Create output layer\n",
    "        self.output_layer = nn.Linear(hidden_size, out_size)\n",
    "        \n",
    "    def forward(self, input):\n",
    "        # Flatten image\n",
    "        input = input.view(input.size(0), -1)\n",
    "        \n",
    "        # Utilize hidden layers and apply activation function\n",
    "        output = self.input_layer(input)\n",
    "        output = F.relu(output)\n",
    "        \n",
    "        for layer in self.hidden_layers:\n",
    "            output = layer(output)\n",
    "            output = F.relu(output)\n",
    "        \n",
    "        # Get predictions\n",
    "        output = self.output_layer(output)\n",
    "        return output\n",
    "    \n",
    "    def training_step(self, batch):\n",
    "        # Load batch\n",
    "        images, labels = batch\n",
    "        \n",
    "        # Generate predictions\n",
    "        output = self(images) \n",
    "        \n",
    "        # Calculate loss\n",
    "        loss = F.cross_entropy(output, labels)\n",
    "        return loss\n",
    "    \n",
    "    def validation_step(self, batch):\n",
    "        # Load batch\n",
    "        images, labels = batch \n",
    "\n",
    "        # Generate predictions\n",
    "        output = self(images) \n",
    "        \n",
    "        # Calculate loss\n",
    "        loss = F.cross_entropy(output, labels)\n",
    "\n",
    "        # Calculate accuracy\n",
    "        acc = self.accuracy_function(output, labels)\n",
    "        \n",
    "        return {'val_loss': loss, 'val_acc': acc}\n",
    "        \n",
    "    def validation_epoch_end(self, outputs):\n",
    "        batch_losses = [x['val_loss'] for x in outputs]\n",
    "        \n",
    "        # Combine losses and return mean value\n",
    "        epoch_loss = torch.stack(batch_losses).mean()\n",
    "        \n",
    "        # Combine accuracies and return mean value\n",
    "        batch_accs = [x['val_acc'] for x in outputs]\n",
    "        epoch_acc = torch.stack(batch_accs).mean()\n",
    "        return {'val_loss': epoch_loss.item(), 'val_acc': epoch_acc.item()}\n",
    "    \n",
    "    def epoch_end(self, epoch, result):\n",
    "        print(f\"Epoch: {epoch} - Validation Loss: {result['val_loss']}, Validation Accuracy: { result['val_acc']}\")"
   ]
  },
  {
   "cell_type": "code",
   "execution_count": null,
   "id": "e41c8ce2-0db0-42e1-aceb-b28e02fe0f37",
   "metadata": {
    "tags": []
   },
   "outputs": [],
   "source": [
    "def forward(self, input_image):\n",
    "# Flatten image\n",
    "    input_image = input_image.view(input_image.size(0), -1)\n",
    "\n",
    "# Utilize hidden layers and apply activation function\n",
    "    output = self.input_layer(input_image)\n",
    "    output = F.relu(output)\n",
    "\n",
    "    for layer in self.hidden_layers:\n",
    "        output = layer(output)\n",
    "        output = F.relu(output)\n",
    "\n",
    "# Get predictions\n",
    "    output = self.output_layer(output)\n",
    "    return output"
   ]
  },
  {
   "cell_type": "code",
   "execution_count": null,
   "id": "0cccad33-ffee-4181-805b-bc2b08bef8d5",
   "metadata": {
    "tags": []
   },
   "outputs": [],
   "source": [
    "def training_step(self, batch):\n",
    "\t# Load batch\n",
    "\timages, labels = batch\n",
    "\t\n",
    "\t# Generate predictions\n",
    "\toutput = self(images) \n",
    "\t\n",
    "\t# Calculate loss\n",
    "\tloss = F.cross_entropy(output, labels)\n",
    "\treturn loss\n",
    "\n",
    "def validation_step(self, batch):\n",
    "\t# Load batch\n",
    "\timages, labels = batch \n",
    "\n",
    "\t# Generate predictions\n",
    "\toutput = self(images) \n",
    "\t\n",
    "\t# Calculate loss\n",
    "\tloss = F.cross_entropy(output, labels)\n",
    "\n",
    "\t# Calculate accuracy\n",
    "\tacc = self.accuracy_function(output, labels)\n",
    "\t\n",
    "\treturn {'val_loss': loss, 'val_acc': acc}"
   ]
  },
  {
   "cell_type": "code",
   "execution_count": null,
   "id": "55fef04e-a259-43d3-a676-cbe7d9d90254",
   "metadata": {},
   "outputs": [],
   "source": [
    "def validation_epoch_end(self, outputs):\n",
    "\tbatch_losses = [x['val_loss'] for x in outputs]\n",
    "\t\n",
    "\t# Combine losses and return mean value\n",
    "\tepoch_loss = torch.stack(batch_losses).mean()\n",
    "\t\n",
    "\t# Combine accuracies and return mean value\n",
    "\tbatch_accs = [x['val_acc'] for x in outputs]\n",
    "\tepoch_acc = torch.stack(batch_accs).mean()\n",
    "\treturn {'val_loss': epoch_loss.item(), 'val_acc': epoch_acc.item()}\n",
    "\n",
    "def epoch_end(self, epoch, result):\n",
    "    print(f\"Epoch: {epoch} - Validation Loss: {result['val_loss']}, Validation Accuracy: { result['val_acc']}\")"
   ]
  },
  {
   "cell_type": "code",
   "execution_count": null,
   "id": "e9ba9690-0f16-48c2-98e9-97925110fdb1",
   "metadata": {},
   "outputs": [],
   "source": [
    "class ModelTrainer():   \n",
    "  def fit(self, epochs, learning_rate, model, train_loader, val_loader, opt_func=torch.optim.SGD):\n",
    "        history = []\n",
    "        optimizer = opt_func(model.parameters(), learning_rate)\n",
    "\n",
    "        for epoch in range(epochs):\n",
    "            # Training \n",
    "            for batch in train_loader:\n",
    "                loss = model.training_step(batch)\n",
    "                loss.backward()\n",
    "                optimizer.step()\n",
    "                optimizer.zero_grad()\n",
    "\n",
    "            # Validation\n",
    "            result = self._evaluate(model, val_loader)\n",
    "            model.epoch_end(epoch, result)\n",
    "            history.append(result)\n",
    "            \n",
    "        return history\n",
    "\n",
    "        def _evaluate(self, model, val_loader):\n",
    "            outputs = [model.validation_step(batch) for batch in val_loader]\n",
    "            return model.validation_epoch_end(outputs)"
   ]
  },
  {
   "cell_type": "code",
   "execution_count": null,
   "id": "2de9fe82-424a-4cc7-8abc-00becd23fa12",
   "metadata": {},
   "outputs": [],
   "source": [
    "def accuracy(outputs, labels):\n",
    "    _, preds = torch.max(outputs, dim=1)\n",
    "    return torch.tensor(torch.sum(preds == labels).item() / len(preds))"
   ]
  },
  {
   "cell_type": "code",
   "execution_count": 62,
   "id": "670a0e24-1027-4f38-826b-3a01c8caf405",
   "metadata": {
    "tags": []
   },
   "outputs": [
    {
     "name": "stdout",
     "output_type": "stream",
     "text": [
      "FFNN(\n",
      "  (input_layer): Linear(in_features=3, out_features=10, bias=True)\n",
      "  (hidden_layers): ModuleList(\n",
      "    (0-2): 3 x Linear(in_features=10, out_features=10, bias=True)\n",
      "  )\n",
      "  (output_layer): Linear(in_features=10, out_features=1, bias=True)\n",
      ")\n"
     ]
    }
   ],
   "source": [
    "input_size = 3\n",
    "num_classes = 1\n",
    "num_hidden_layers = 3\n",
    "\n",
    "model = FFNN(input_size, num_hidden_layers, 10, out_size=num_classes, accuracy_function=accuracy)\n",
    "print(model)"
   ]
  },
  {
   "cell_type": "code",
   "execution_count": null,
   "id": "5495e0ae-c186-452d-93a5-ceea552c90fd",
   "metadata": {
    "tags": []
   },
   "outputs": [],
   "source": []
  },
  {
   "cell_type": "code",
   "execution_count": null,
   "id": "e397f5ea-be86-41cc-861e-1ca52d4ef9ce",
   "metadata": {},
   "outputs": [],
   "source": []
  }
 ],
 "metadata": {
  "kernelspec": {
   "display_name": "Python 3 (ipykernel)",
   "language": "python",
   "name": "python3"
  },
  "language_info": {
   "codemirror_mode": {
    "name": "ipython",
    "version": 3
   },
   "file_extension": ".py",
   "mimetype": "text/x-python",
   "name": "python",
   "nbconvert_exporter": "python",
   "pygments_lexer": "ipython3",
   "version": "3.10.11"
  }
 },
 "nbformat": 4,
 "nbformat_minor": 5
}
