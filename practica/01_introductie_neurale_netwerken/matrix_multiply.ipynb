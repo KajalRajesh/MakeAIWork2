{
 "cells": [
  {
   "cell_type": "code",
   "execution_count": 1,
   "metadata": {},
   "outputs": [
    {
     "name": "stdout",
     "output_type": "stream",
     "text": [
      "3\n"
     ]
    }
   ],
   "source": [
    "a=1\n",
    "b=2\n",
    "c=a+b\n",
    "print(c)"
   ]
  },
  {
   "attachments": {},
   "cell_type": "markdown",
   "metadata": {},
   "source": [
    "1x5 matrix & 5x1 matrix multiplication\n",
    "\n",
    "mat1 = (1 2 3 4 5)       *    mat2 = (6\n",
    "                                      7\n",
    "                                      8\n",
    "                                      9\n",
    "                                      1)\n",
    "                                      \n",
    "                                      "
   ]
  },
  {
   "cell_type": "code",
   "execution_count": 2,
   "metadata": {},
   "outputs": [
    {
     "name": "stdout",
     "output_type": "stream",
     "text": [
      "Yes, we can multiply them!\n",
      "(0,0)\n",
      "(1,1)\n",
      "(2,2)\n",
      "(3,3)\n",
      "(4,4)\n",
      "{'rows': 1, 'cols': 1, 'data': [85]}\n"
     ]
    }
   ],
   "source": [
    "mat1 = {'rows': 1, 'cols': 5, 'data': [1,2,3,4,5]}\n",
    "mat2 = {'rows': 5, 'cols': 1, 'data': [6,7,8,9,1]}\n",
    "\n",
    "# Can we multiply them? Check if dimensions satisfy the (M by N) * (N by K) = (M by K) rule:\n",
    "\n",
    "if mat1['cols'] == mat2['rows']:\n",
    "    \n",
    "    print(\"Yes, we can multiply them!\")\n",
    "mat3 = {'rows': 1, 'cols': 1, 'data': [0]}\n",
    "\n",
    "# Define the number of elements of mat3\n",
    "mat3Elements = mat3['rows'] * mat3['cols']\n",
    "\n",
    "# Define the number of multiplications per index of mat3\n",
    "mulPerIndex = mat1['cols'] # or mat2['rows']\n",
    "\n",
    "# We need to touch every element of mat3\n",
    "for i in range(mat3Elements): # i = 0\n",
    "    \n",
    "    # For each mat3 element we need to multiply the col values of mat1 with the row values of mat2\n",
    "    for j in range(mulPerIndex): # j = 0, 1, 2, 3,4\n",
    "    \n",
    "        # These are the col indices of mat1\n",
    "        colIndex = (i // mat2['cols']) * mat1['cols'] + j\n",
    "        \n",
    "        # These are the row indices of mat2\n",
    "        rowIndex = (i % mat2['cols']) + j * mat2['cols']\n",
    "        \n",
    "        # Let's print the indices to see if they match our manual result above\n",
    "        print(f\"({colIndex},{rowIndex})\")\n",
    "    \n",
    "        mat3['data'][i] += mat1['data'][colIndex] * mat2['data'][rowIndex]\n",
    "\n",
    "# Let's check it\n",
    "print(mat3)"
   ]
  },
  {
   "attachments": {},
   "cell_type": "markdown",
   "metadata": {},
   "source": [
    "Ik heb een 4x3 matrix en wil er een 4x1 matrix van maken. Waar moet ik dan mee vermenigvuldigen?\n",
    "\n",
    "input matrix1 = 4x3 matrix  \n",
    "output matrix = 4x1 matrix\n",
    "\n",
    "input matrix2 = ?\n",
    "\n",
    "no. of rows in input matrix2 = no. of columns in input matrix 1 \n",
    "no. of columns in input matrix2 = no. of columns in output matrix \n",
    "\n",
    "input matrix2 = 3x1 matrix"
   ]
  },
  {
   "cell_type": "markdown",
   "metadata": {},
   "source": []
  }
 ],
 "metadata": {
  "kernelspec": {
   "display_name": "base",
   "language": "python",
   "name": "python3"
  },
  "language_info": {
   "codemirror_mode": {
    "name": "ipython",
    "version": 3
   },
   "file_extension": ".py",
   "mimetype": "text/x-python",
   "name": "python",
   "nbconvert_exporter": "python",
   "pygments_lexer": "ipython3",
   "version": "3.10.8"
  },
  "orig_nbformat": 4
 },
 "nbformat": 4,
 "nbformat_minor": 2
}
